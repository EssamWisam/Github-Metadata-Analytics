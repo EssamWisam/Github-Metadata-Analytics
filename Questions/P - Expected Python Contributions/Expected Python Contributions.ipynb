{
 "cells": [
  {
   "attachments": {},
   "cell_type": "markdown",
   "metadata": {},
   "source": [
    "<span style=\"font-family:Avenir;\">\n",
    "<font color=\"yellow\"> <h1> Example </font> Title </h1> \n",
    "</span>"
   ]
  },
  {
   "attachments": {},
   "cell_type": "markdown",
   "metadata": {},
   "source": [
    "<span style=\"font-family:Avenir;\">\n",
    "<font color=\"LavenderBlush\"> <h2> Stating Questions </h2> </font>\n",
    "</span>\n",
    "\n"
   ]
  },
  {
   "attachments": {},
   "cell_type": "markdown",
   "metadata": {},
   "source": [
    "<span style=\"font-family:Avenir; font-size:1.4em;\">\n",
    "✦ <font color=\"Cyan\"> What is the expected number of pull requests over all Python\n",
    "repositories that were made in 2023?\n",
    " </font>\n",
    "\n",
    "\n",
    "</span>\n",
    "\n"
   ]
  },
  {
   "attachments": {},
   "cell_type": "markdown",
   "metadata": {},
   "source": [
    "<span style=\"font-family:Avenir;\">\n",
    "\n",
    "<table style=\"width:100%; border-collapse:collapse; table-layout:fixed;\">\n",
    "  <thead>\n",
    "    <tr>\n",
    "      <th style=\"padding:10px; border:0.5px solid grey; text-align: center; width:33.33%;\">\n",
    "      <font color=\"DeepSkyBlue\">Set Expectations</font>\n",
    "      </th>\n",
    "      <th style=\"padding:10px; border:0.5px solid grey; text-align: center; width:33.33%;\">\n",
    "      <font color=\"DeepSkyBlue\">Collect Data</font>\n",
    "      </th>\n",
    "      <th style=\"padding:10px; border:0.5px solid grey; text-align: center; width:33.33%;\">\n",
    "      <font color=\"DeepSkyBlue\">Match Expectations & Data</font>\n",
    "      </th>\n",
    "    </tr>\n",
    "  </thead>\n",
    "  <tbody>\n",
    "    <tr>\n",
    "      <td style=\"padding:10px; border:0.5px solid grey; text-align: center; width:33.33%;\">\n",
    "      The question is interesting and answerable from the data.\n",
    "      </td>\n",
    "      <td style=\"padding:10px; border:0.5px solid grey; text-align: center; width:33.33%;\">\n",
    "      The question is interesting because software companies need to predict python contributions for 2023, and it it is answerable because we have data on repositories languages, creation dates, and pull requests.\n",
    "      </td>\n",
    "      <td style=\"padding:10px; border:0.5px solid grey; text-align: center; width:33.33%;\">\n",
    "      Expectations and data match.\n",
    "      </td>\n",
    "    </tr>\n",
    "  </tbody>\n",
    "</table>\n",
    "\n",
    "</span>\n",
    "\n"
   ]
  },
  {
   "attachments": {},
   "cell_type": "markdown",
   "metadata": {},
   "source": [
    "<span style=\"font-family:Avenir;\">\n",
    "<font color=\"LavenderBlush\"> <h2> Exploratory Data Analytics</h2> </font>\n",
    "</span>"
   ]
  },
  {
   "attachments": {},
   "cell_type": "markdown",
   "metadata": {},
   "source": [
    "### Imports"
   ]
  },
  {
   "cell_type": "code",
   "execution_count": 1,
   "metadata": {},
   "outputs": [],
   "source": [
    "import sys\n",
    "sys.path.append('../../')\n",
    "from DataPreparation.Preprocess import read_data \n",
    "from DataPreparation.Visualize import convey_insights\n",
    "sys.path.pop()\n",
    "from Logic import *"
   ]
  },
  {
   "attachments": {},
   "cell_type": "markdown",
   "metadata": {},
   "source": [
    "### Reading Data"
   ]
  },
  {
   "cell_type": "code",
   "execution_count": 2,
   "metadata": {},
   "outputs": [],
   "source": [
    "### EDA code goes here\n",
    "data , _ = read_data(kind='all' , fix = False)"
   ]
  },
  {
   "attachments": {},
   "cell_type": "markdown",
   "metadata": {},
   "source": [
    "### Data Preprocessing"
   ]
  },
  {
   "cell_type": "code",
   "execution_count": 3,
   "metadata": {},
   "outputs": [],
   "source": [
    "data = preprocess_data(data)"
   ]
  },
  {
   "cell_type": "code",
   "execution_count": 4,
   "metadata": {},
   "outputs": [
    {
     "data": {
      "text/html": [
       "<div>\n",
       "<style scoped>\n",
       "    .dataframe tbody tr th:only-of-type {\n",
       "        vertical-align: middle;\n",
       "    }\n",
       "\n",
       "    .dataframe tbody tr th {\n",
       "        vertical-align: top;\n",
       "    }\n",
       "\n",
       "    .dataframe thead th {\n",
       "        text-align: right;\n",
       "    }\n",
       "</style>\n",
       "<table border=\"1\" class=\"dataframe\">\n",
       "  <thead>\n",
       "    <tr style=\"text-align: right;\">\n",
       "      <th></th>\n",
       "      <th>primaryLanguage</th>\n",
       "      <th>pullRequests</th>\n",
       "      <th>year</th>\n",
       "    </tr>\n",
       "  </thead>\n",
       "  <tbody>\n",
       "    <tr>\n",
       "      <th>4</th>\n",
       "      <td>Python</td>\n",
       "      <td>2</td>\n",
       "      <td>2018</td>\n",
       "    </tr>\n",
       "    <tr>\n",
       "      <th>9</th>\n",
       "      <td>Python</td>\n",
       "      <td>1</td>\n",
       "      <td>2019</td>\n",
       "    </tr>\n",
       "    <tr>\n",
       "      <th>17</th>\n",
       "      <td>Python</td>\n",
       "      <td>1</td>\n",
       "      <td>2021</td>\n",
       "    </tr>\n",
       "    <tr>\n",
       "      <th>19</th>\n",
       "      <td>Python</td>\n",
       "      <td>2</td>\n",
       "      <td>2022</td>\n",
       "    </tr>\n",
       "    <tr>\n",
       "      <th>20</th>\n",
       "      <td>Python</td>\n",
       "      <td>2</td>\n",
       "      <td>2022</td>\n",
       "    </tr>\n",
       "  </tbody>\n",
       "</table>\n",
       "</div>"
      ],
      "text/plain": [
       "   primaryLanguage  pullRequests  year\n",
       "4           Python             2  2018\n",
       "9           Python             1  2019\n",
       "17          Python             1  2021\n",
       "19          Python             2  2022\n",
       "20          Python             2  2022"
      ]
     },
     "execution_count": 4,
     "metadata": {},
     "output_type": "execute_result"
    }
   ],
   "source": [
    "data.head()"
   ]
  },
  {
   "attachments": {},
   "cell_type": "markdown",
   "metadata": {},
   "source": [
    "### Exploring python repositories and their pull requests"
   ]
  },
  {
   "cell_type": "code",
   "execution_count": 5,
   "metadata": {},
   "outputs": [
    {
     "name": "stdout",
     "output_type": "stream",
     "text": [
      "Number of repos with python as primary language:  29693\n",
      "Available years from 2009 to 2022\n",
      "Number of pull requests over all python repos from 2009 to 2022:  214164\n",
      "Number of pull requests in 2009: 2\n",
      "Number of pull requests in 2010: 10\n",
      "Number of pull requests in 2011: 93\n",
      "Number of pull requests in 2012: 348\n",
      "Number of pull requests in 2013: 620\n",
      "Number of pull requests in 2014: 1001\n",
      "Number of pull requests in 2015: 4293\n",
      "Number of pull requests in 2016: 4223\n",
      "Number of pull requests in 2017: 6866\n",
      "Number of pull requests in 2018: 7673\n",
      "Number of pull requests in 2019: 11380\n",
      "Number of pull requests in 2020: 14985\n",
      "Number of pull requests in 2021: 25524\n",
      "Number of pull requests in 2022: 137146\n"
     ]
    }
   ],
   "source": [
    "explore_data(data)"
   ]
  },
  {
   "attachments": {},
   "cell_type": "markdown",
   "metadata": {},
   "source": [
    "<span style=\"font-family:Avenir;\">\n",
    "\n",
    "<table style=\"width:100%; border-collapse:collapse; table-layout:fixed;\">\n",
    "  <thead>\n",
    "    <tr>\n",
    "      <th style=\"padding:10px; border:0.5px solid grey; text-align: center; width:33.33%;\">\n",
    "      <font color=\"DeepSkyBlue\">Set Expectations</font>\n",
    "      </th>\n",
    "      <th style=\"padding:10px; border:0.5px solid grey; text-align: center; width:33.33%;\">\n",
    "      <font color=\"DeepSkyBlue\">Collect Data</font>\n",
    "      </th>\n",
    "      <th style=\"padding:10px; border:0.5px solid grey; text-align: center; width:33.33%;\">\n",
    "      <font color=\"DeepSkyBlue\">Match Expectations & Data</font>\n",
    "      </th>\n",
    "    </tr>\n",
    "  </thead>\n",
    "  <tbody>\n",
    "    <tr>\n",
    "      <td style=\"padding:10px; border:0.5px solid grey; text-align: center; width:33.33%;\">\n",
    "      There is more than 25000 python repositories on the data and theses repositories have over 100000 pull requests.\n",
    "      </td>\n",
    "      <td style=\"padding:10px; border:0.5px solid grey; text-align: center; width:33.33%;\">\n",
    "      Already we have 29693 python repositories and 214164 pull requests.\n",
    "      </td>\n",
    "      <td style=\"padding:10px; border:0.5px solid grey; text-align: center; width:33.33%;\">\n",
    "      Expectations and data match.\n",
    "      </td>\n",
    "    </tr>\n",
    "  </tbody>\n",
    "</table>\n",
    "\n",
    "</span>\n",
    "\n"
   ]
  },
  {
   "attachments": {},
   "cell_type": "markdown",
   "metadata": {},
   "source": [
    "<span style=\"font-family:Avenir;\">\n",
    "<font color=\"LavenderBlush\"> <h2> Model Building</h2> </font>\n",
    "</span>"
   ]
  },
  {
   "cell_type": "code",
   "execution_count": 6,
   "metadata": {},
   "outputs": [],
   "source": [
    "### Model building code goes her"
   ]
  },
  {
   "attachments": {},
   "cell_type": "markdown",
   "metadata": {},
   "source": [
    "<span style=\"font-family:Avenir;\">\n",
    "\n",
    "<table style=\"width:100%; border-collapse:collapse; table-layout:fixed;\">\n",
    "  <thead>\n",
    "    <tr>\n",
    "      <th style=\"padding:10px; border:0.5px solid grey; text-align: center; width:33.33%;\">\n",
    "      <font color=\"DeepSkyBlue\">Set Expectations</font>\n",
    "      </th>\n",
    "      <th style=\"padding:10px; border:0.5px solid grey; text-align: center; width:33.33%;\">\n",
    "      <font color=\"DeepSkyBlue\">Collect Data</font>\n",
    "      </th>\n",
    "      <th style=\"padding:10px; border:0.5px solid grey; text-align: center; width:33.33%;\">\n",
    "      <font color=\"DeepSkyBlue\">Match Expectations & Data</font>\n",
    "      </th>\n",
    "    </tr>\n",
    "  </thead>\n",
    "  <tbody>\n",
    "    <tr>\n",
    "      <td style=\"padding:10px; border:0.5px solid grey; text-align: center; width:33.33%;\">\n",
    "      Its as expected\n",
    "      </td>\n",
    "      <td style=\"padding:10px; border:0.5px solid grey; text-align: center; width:33.33%;\">\n",
    "      This is my data\n",
    "      </td>\n",
    "      <td style=\"padding:10px; border:0.5px solid grey; text-align: center; width:33.33%;\">\n",
    "      Suppose data is expectations; done.\n",
    "      </td>\n",
    "    </tr>\n",
    "  </tbody>\n",
    "</table>\n",
    "\n",
    "</span>\n",
    "\n"
   ]
  },
  {
   "attachments": {},
   "cell_type": "markdown",
   "metadata": {},
   "source": [
    "<span style=\"font-family:Avenir;\">\n",
    "<font color=\"LavenderBlush\"> <h2> Results & Interpretation</h2> </font>\n",
    "</span>"
   ]
  },
  {
   "cell_type": "code",
   "execution_count": 7,
   "metadata": {},
   "outputs": [],
   "source": [
    "### Probably code that will generate markdown"
   ]
  },
  {
   "attachments": {},
   "cell_type": "markdown",
   "metadata": {},
   "source": [
    "<span style=\"font-family:Avenir;\">\n",
    "\n",
    "<table style=\"width:100%; border-collapse:collapse; table-layout:fixed;\">\n",
    "  <thead>\n",
    "    <tr>\n",
    "      <th style=\"padding:10px; border:0.5px solid grey; text-align: center; width:33.33%;\">\n",
    "      <font color=\"DeepSkyBlue\">Set Expectations</font>\n",
    "      </th>\n",
    "      <th style=\"padding:10px; border:0.5px solid grey; text-align: center; width:33.33%;\">\n",
    "      <font color=\"DeepSkyBlue\">Collect Data</font>\n",
    "      </th>\n",
    "      <th style=\"padding:10px; border:0.5px solid grey; text-align: center; width:33.33%;\">\n",
    "      <font color=\"DeepSkyBlue\">Match Expectations & Data</font>\n",
    "      </th>\n",
    "    </tr>\n",
    "  </thead>\n",
    "  <tbody>\n",
    "    <tr>\n",
    "      <td style=\"padding:10px; border:0.5px solid grey; text-align: center; width:33.33%;\">\n",
    "      Its as expected\n",
    "      </td>\n",
    "      <td style=\"padding:10px; border:0.5px solid grey; text-align: center; width:33.33%;\">\n",
    "      This is my data\n",
    "      </td>\n",
    "      <td style=\"padding:10px; border:0.5px solid grey; text-align: center; width:33.33%;\">\n",
    "      Suppose data is expectations; done.\n",
    "      </td>\n",
    "    </tr>\n",
    "  </tbody>\n",
    "</table>\n",
    "\n",
    "</span>\n",
    "\n"
   ]
  },
  {
   "attachments": {},
   "cell_type": "markdown",
   "metadata": {},
   "source": [
    "<span style=\"font-family:Avenir;\">\n",
    "<font color=\"LavenderBlush\"> <h2> Communicating Results</h2> </font>\n",
    "</span>"
   ]
  },
  {
   "cell_type": "code",
   "execution_count": 8,
   "metadata": {},
   "outputs": [],
   "source": [
    "### Probably code that will generate markdown"
   ]
  },
  {
   "attachments": {},
   "cell_type": "markdown",
   "metadata": {},
   "source": [
    "<span style=\"font-family:Avenir;\">\n",
    "\n",
    "<table style=\"width:100%; border-collapse:collapse; table-layout:fixed;\">\n",
    "  <thead>\n",
    "    <tr>\n",
    "      <th style=\"padding:10px; border:0.5px solid grey; text-align: center; width:33.33%;\">\n",
    "      <font color=\"DeepSkyBlue\">Set Expectations</font>\n",
    "      </th>\n",
    "      <th style=\"padding:10px; border:0.5px solid grey; text-align: center; width:33.33%;\">\n",
    "      <font color=\"DeepSkyBlue\">Collect Data</font>\n",
    "      </th>\n",
    "      <th style=\"padding:10px; border:0.5px solid grey; text-align: center; width:33.33%;\">\n",
    "      <font color=\"DeepSkyBlue\">Match Expectations & Data</font>\n",
    "      </th>\n",
    "    </tr>\n",
    "  </thead>\n",
    "  <tbody>\n",
    "    <tr>\n",
    "      <td style=\"padding:10px; border:0.5px solid grey; text-align: center; width:33.33%;\">\n",
    "      Its as expected\n",
    "      </td>\n",
    "      <td style=\"padding:10px; border:0.5px solid grey; text-align: center; width:33.33%;\">\n",
    "      This is my data\n",
    "      </td>\n",
    "      <td style=\"padding:10px; border:0.5px solid grey; text-align: center; width:33.33%;\">\n",
    "      Suppose data is expectations; done.\n",
    "      </td>\n",
    "    </tr>\n",
    "  </tbody>\n",
    "</table>\n",
    "\n",
    "</span>\n",
    "\n"
   ]
  }
 ],
 "metadata": {
  "kernelspec": {
   "display_name": "Python 3",
   "language": "python",
   "name": "python3"
  },
  "language_info": {
   "codemirror_mode": {
    "name": "ipython",
    "version": 3
   },
   "file_extension": ".py",
   "mimetype": "text/x-python",
   "name": "python",
   "nbconvert_exporter": "python",
   "pygments_lexer": "ipython3",
   "version": "3.9.7"
  },
  "orig_nbformat": 4
 },
 "nbformat": 4,
 "nbformat_minor": 2
}
