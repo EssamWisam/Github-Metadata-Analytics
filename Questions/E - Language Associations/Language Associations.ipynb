{
 "cells": [
  {
   "attachments": {},
   "cell_type": "markdown",
   "metadata": {},
   "source": [
    "<span style=\"font-family:Avenir;\">\n",
    "<font color=\"yellow\"> <h1> Language  </font> Associations </h1> \n",
    "</span>"
   ]
  },
  {
   "attachments": {},
   "cell_type": "markdown",
   "metadata": {},
   "source": [
    "<span style=\"font-family:Avenir;\">\n",
    "<font color=\"LavenderBlush\"> <h2> Stating Questions </h2> </font>\n",
    "</span>\n",
    "\n"
   ]
  },
  {
   "attachments": {},
   "cell_type": "markdown",
   "metadata": {},
   "source": [
    "<span style=\"font-family:Avenir; font-size:1.4em;\">\n",
    "✦ <font color=\"Cyan\"> What are the top three sets of programming languages used\n",
    "together over time? What are some strong association rules that\n",
    "can be drawn from these sets?\n",
    " </font>\n",
    "\n",
    "\n",
    "</span>\n",
    "\n"
   ]
  },
  {
   "attachments": {},
   "cell_type": "markdown",
   "metadata": {},
   "source": [
    "<span style=\"font-family:Avenir;\">\n",
    "\n",
    "<table style=\"width:100%; border-collapse:collapse; table-layout:fixed;\">\n",
    "  <thead>\n",
    "    <tr>\n",
    "      <th style=\"padding:10px; border:0.5px solid grey; text-align: center; width:33.33%;\">\n",
    "      <font color=\"DeepSkyBlue\">Set Expectations</font>\n",
    "      </th>\n",
    "      <th style=\"padding:10px; border:0.5px solid grey; text-align: center; width:33.33%;\">\n",
    "      <font color=\"DeepSkyBlue\">Collect Data</font>\n",
    "      </th>\n",
    "      <th style=\"padding:10px; border:0.5px solid grey; text-align: center; width:33.33%;\">\n",
    "      <font color=\"DeepSkyBlue\">Match Expectations & Data</font>\n",
    "      </th>\n",
    "    </tr>\n",
    "  </thead>\n",
    "  <tbody>\n",
    "    <tr>\n",
    "      <td style=\"padding:10px; border:0.5px solid grey; text-align: center; width:33.33%;\">\n",
    "      The question is interesting and answerable.\n",
    "      </td>\n",
    "      <td style=\"padding:10px; border:0.5px solid grey; text-align: center; width:33.33%;\">\n",
    "      The question is already interesting as many software developers and software companies owners need to know its answer, and it is answerable as the data is available and with some statistical techniques we can answer it.\n",
    "      </td>\n",
    "      <td style=\"padding:10px; border:0.5px solid grey; text-align: center; width:33.33%;\">\n",
    "      Expectations and data match.\n",
    "      </td>\n",
    "    </tr>\n",
    "  </tbody>\n",
    "</table>\n",
    "\n",
    "</span>\n",
    "\n"
   ]
  },
  {
   "attachments": {},
   "cell_type": "markdown",
   "metadata": {},
   "source": [
    "<span style=\"font-family:Avenir;\">\n",
    "<font color=\"LavenderBlush\"> <h2> Exploratory Data Analytics</h2> </font>\n",
    "</span>"
   ]
  },
  {
   "attachments": {},
   "cell_type": "markdown",
   "metadata": {},
   "source": [
    "### Imports"
   ]
  },
  {
   "cell_type": "code",
   "execution_count": 1,
   "metadata": {},
   "outputs": [],
   "source": [
    "import sys\n",
    "sys.path.append('../../')\n",
    "from DataPreparation.Preprocess import read_data \n",
    "from DataPreparation.Visualize import convey_insights\n",
    "sys.path.pop()\n",
    "from Logic import *"
   ]
  },
  {
   "attachments": {},
   "cell_type": "markdown",
   "metadata": {},
   "source": [
    "### Reading Data"
   ]
  },
  {
   "cell_type": "code",
   "execution_count": 2,
   "metadata": {},
   "outputs": [],
   "source": [
    "### EDA code goes here\n",
    "data , _ = read_data(kind='all' , fix = True)"
   ]
  },
  {
   "attachments": {},
   "cell_type": "markdown",
   "metadata": {},
   "source": [
    "### Exploring used together Programming Language Sets"
   ]
  },
  {
   "cell_type": "code",
   "execution_count": 3,
   "metadata": {},
   "outputs": [
    {
     "name": "stdout",
     "output_type": "stream",
     "text": [
      "[['JavaScript', ' HTML', ' CSS', ' Ruby', ' Shell'], ['C', ' CoffeeScript', ' JavaScript', ' Python', ' Ruby'], ['JavaScript'], ['C#', ' Puppet'], ['Python']]\n",
      "55.139737429821764\n"
     ]
    }
   ],
   "source": [
    "transactions = get_transactions(data)\n",
    "print(transactions[:5])\n",
    "print(len([i for i in transactions if len(i) > 1]) / len(transactions) * 100)"
   ]
  },
  {
   "attachments": {},
   "cell_type": "markdown",
   "metadata": {},
   "source": [
    "<span style=\"font-family:Avenir;\">\n",
    "\n",
    "<table style=\"width:100%; border-collapse:collapse; table-layout:fixed;\">\n",
    "  <thead>\n",
    "    <tr>\n",
    "      <th style=\"padding:10px; border:0.5px solid grey; text-align: center; width:33.33%;\">\n",
    "      <font color=\"DeepSkyBlue\">Set Expectations</font>\n",
    "      </th>\n",
    "      <th style=\"padding:10px; border:0.5px solid grey; text-align: center; width:33.33%;\">\n",
    "      <font color=\"DeepSkyBlue\">Collect Data</font>\n",
    "      </th>\n",
    "      <th style=\"padding:10px; border:0.5px solid grey; text-align: center; width:33.33%;\">\n",
    "      <font color=\"DeepSkyBlue\">Match Expectations & Data</font>\n",
    "      </th>\n",
    "    </tr>\n",
    "  </thead>\n",
    "  <tbody>\n",
    "    <tr>\n",
    "      <td style=\"padding:10px; border:0.5px solid grey; text-align: center; width:33.33%;\">\n",
    "      There are many programming languages sets (that have more than one programming language) used together over time\n",
    "      </td>\n",
    "      <td style=\"padding:10px; border:0.5px solid grey; text-align: center; width:33.33%;\">\n",
    "      As seen there more than 55 % of the used programming languages sets have more than one programming language.\n",
    "      </td>\n",
    "      <td style=\"padding:10px; border:0.5px solid grey; text-align: center; width:33.33%;\">\n",
    "      Expectations and data match.\n",
    "      </td>\n",
    "    </tr>\n",
    "  </tbody>\n",
    "</table>\n",
    "\n",
    "</span>\n",
    "\n"
   ]
  },
  {
   "attachments": {},
   "cell_type": "markdown",
   "metadata": {},
   "source": [
    "<span style=\"font-family:Avenir;\">\n",
    "<font color=\"LavenderBlush\"> <h2> Model Building</h2> </font>\n",
    "</span>"
   ]
  },
  {
   "attachments": {},
   "cell_type": "markdown",
   "metadata": {},
   "source": [
    "### Imports"
   ]
  },
  {
   "cell_type": "code",
   "execution_count": 4,
   "metadata": {},
   "outputs": [],
   "source": [
    "from mlxtend.preprocessing import TransactionEncoder\n",
    "from mlxtend.frequent_patterns import apriori\n",
    "import pandas as pd"
   ]
  },
  {
   "attachments": {},
   "cell_type": "markdown",
   "metadata": {},
   "source": [
    "## Answering First Part of Question"
   ]
  },
  {
   "attachments": {},
   "cell_type": "markdown",
   "metadata": {},
   "source": [
    "### Applying Apriori Algorithm"
   ]
  },
  {
   "cell_type": "code",
   "execution_count": 5,
   "metadata": {},
   "outputs": [],
   "source": [
    "# Converting the transactions list of lists into a one-hot encoded numpy array\n",
    "te = TransactionEncoder()\n",
    "onehot = te.fit_transform(transactions)"
   ]
  },
  {
   "cell_type": "code",
   "execution_count": 6,
   "metadata": {},
   "outputs": [],
   "source": [
    "# Converting the one-hot encoded numpy array into a pandas DataFrame\n",
    "df = pd.DataFrame(onehot, columns=te.columns_)"
   ]
  },
  {
   "cell_type": "code",
   "execution_count": 7,
   "metadata": {},
   "outputs": [
    {
     "name": "stdout",
     "output_type": "stream",
     "text": [
      "      support                            itemsets\n",
      "0    0.077185                                  ()\n",
      "1    0.012457                         ( Assembly)\n",
      "2    0.026395                        ( Batchfile)\n",
      "3    0.055852                                ( C)\n",
      "4    0.042814                              ( C++)\n",
      "..        ...                                 ...\n",
      "103  0.013267    ( JavaScript, TypeScript,  HTML)\n",
      "104  0.010305         (JavaScript,  Shell,  HTML)\n",
      "105  0.012329        ( Makefile,  Python,  Shell)\n",
      "106  0.010005              ( Shell,  Makefile, C)\n",
      "107  0.010929  ( JavaScript,  Shell,  CSS,  HTML)\n",
      "\n",
      "[108 rows x 2 columns]\n"
     ]
    }
   ],
   "source": [
    "# Useing apriori algorithm to find frequent itemsets\n",
    "freq_items = apriori(df, min_support=0.01, use_colnames=True) \n",
    "print(freq_items)"
   ]
  },
  {
   "cell_type": "code",
   "execution_count": 8,
   "metadata": {},
   "outputs": [],
   "source": [
    "# Sorting the frequent itemsets in descending order of support and selecting the top three.\n",
    "# Clearly sorting on support gets the most popular itemsets to the top of the DataFrame.\n",
    "top_sets = freq_items.sort_values('support', ascending=False).head(15)"
   ]
  },
  {
   "cell_type": "code",
   "execution_count": 9,
   "metadata": {},
   "outputs": [
    {
     "name": "stdout",
     "output_type": "stream",
     "text": [
      "     support             itemsets\n",
      "53  0.091709        ( CSS,  HTML)\n",
      "71  0.067647  (JavaScript,  HTML)\n",
      "59  0.061143   (JavaScript,  CSS)\n"
     ]
    }
   ],
   "source": [
    "# Top three itemsets (That have more than one item) \n",
    "top_3_sets = top_sets[top_sets.itemsets.apply(lambda x: len(x) > 1)][0:3]\n",
    "print(top_3_sets)"
   ]
  },
  {
   "attachments": {},
   "cell_type": "markdown",
   "metadata": {},
   "source": [
    "## Answering Second Part of Question"
   ]
  },
  {
   "attachments": {},
   "cell_type": "markdown",
   "metadata": {},
   "source": [
    "### Imports"
   ]
  },
  {
   "cell_type": "code",
   "execution_count": 10,
   "metadata": {},
   "outputs": [],
   "source": [
    "from mlxtend.frequent_patterns import association_rules"
   ]
  },
  {
   "cell_type": "code",
   "execution_count": 11,
   "metadata": {},
   "outputs": [],
   "source": [
    "rules = association_rules(top_sets, metric='confidence', min_threshold=0.1 )"
   ]
  },
  {
   "cell_type": "code",
   "execution_count": 18,
   "metadata": {},
   "outputs": [
    {
     "name": "stdout",
     "output_type": "stream",
     "text": [
      "     antecedents    consequents  antecedent support  consequent support  \\\n",
      "0         ( CSS)        ( HTML)            0.144561            0.171556   \n",
      "1        ( HTML)         ( CSS)            0.171556            0.144561   \n",
      "2   (JavaScript)        ( HTML)            0.155423            0.171556   \n",
      "3        ( HTML)   (JavaScript)            0.171556            0.155423   \n",
      "4   (JavaScript)         ( CSS)            0.155423            0.144561   \n",
      "5         ( CSS)   (JavaScript)            0.144561            0.155423   \n",
      "6  ( JavaScript)         ( CSS)            0.128585            0.144561   \n",
      "7         ( CSS)  ( JavaScript)            0.144561            0.128585   \n",
      "8  ( JavaScript)        ( HTML)            0.128585            0.171556   \n",
      "9        ( HTML)  ( JavaScript)            0.171556            0.128585   \n",
      "\n",
      "    support  confidence      lift  leverage  conviction  zhangs_metric  \n",
      "0  0.091709    0.634396  3.697889  0.066909    2.265960       0.852867  \n",
      "1  0.091709    0.534571  3.697889  0.066909    1.837959       0.880658  \n",
      "2  0.067647    0.435246  2.537045  0.040983    1.466911       0.717330  \n",
      "3  0.067647    0.394315  2.537045  0.040983    1.394417       0.731300  \n",
      "4  0.061143    0.393394  2.721300  0.038674    1.410206       0.748929  \n",
      "5  0.061143    0.422953  2.721300  0.038674    1.463618       0.739420  \n",
      "6  0.061033    0.474651  3.283391  0.042445    1.628325       0.798055  \n",
      "7  0.061033    0.422195  3.283391  0.042445    1.508147       0.812959  \n",
      "8  0.059238    0.460690  2.685355  0.037178    1.536116       0.720219  \n",
      "9  0.059238    0.345297  2.685355  0.037178    1.331007       0.757577  \n"
     ]
    }
   ],
   "source": [
    "print(rules)\n",
    "sorted_rules = rules.sort_values('confidence', ascending=False)"
   ]
  },
  {
   "attachments": {},
   "cell_type": "markdown",
   "metadata": {},
   "source": [
    "<span style=\"font-family:Avenir;\">\n",
    "\n",
    "<table style=\"width:100%; border-collapse:collapse; table-layout:fixed;\">\n",
    "  <thead>\n",
    "    <tr>\n",
    "      <th style=\"padding:10px; border:0.5px solid grey; text-align: center; width:33.33%;\">\n",
    "      <font color=\"DeepSkyBlue\">Set Expectations</font>\n",
    "      </th>\n",
    "      <th style=\"padding:10px; border:0.5px solid grey; text-align: center; width:33.33%;\">\n",
    "      <font color=\"DeepSkyBlue\">Collect Data</font>\n",
    "      </th>\n",
    "      <th style=\"padding:10px; border:0.5px solid grey; text-align: center; width:33.33%;\">\n",
    "      <font color=\"DeepSkyBlue\">Match Expectations & Data</font>\n",
    "      </th>\n",
    "    </tr>\n",
    "  </thead>\n",
    "  <tbody>\n",
    "    <tr>\n",
    "      <td style=\"padding:10px; border:0.5px solid grey; text-align: center; width:33.33%;\">\n",
    "      The questions can be answered using aprori algorithm.\n",
    "      </td>\n",
    "      <td style=\"padding:10px; border:0.5px solid grey; text-align: center; width:33.33%;\">\n",
    "      Apriori algorithm is applied and the needed answers is obtained.\n",
    "      </td>\n",
    "      <td style=\"padding:10px; border:0.5px solid grey; text-align: center; width:33.33%;\">\n",
    "      Expectations and data match.\n",
    "      </td>\n",
    "    </tr>\n",
    "  </tbody>\n",
    "</table>\n",
    "\n",
    "</span>\n",
    "\n"
   ]
  },
  {
   "attachments": {},
   "cell_type": "markdown",
   "metadata": {},
   "source": [
    "<span style=\"font-family:Avenir;\">\n",
    "<font color=\"LavenderBlush\"> <h2> Results & Interpretation</h2> </font>\n",
    "</span>"
   ]
  },
  {
   "cell_type": "code",
   "execution_count": 17,
   "metadata": {},
   "outputs": [
    {
     "name": "stdout",
     "output_type": "stream",
     "text": [
      "frozenset({' CSS'})\n",
      "[' CSS']\n",
      "frozenset({' HTML'})\n",
      "[' HTML']\n"
     ]
    }
   ],
   "source": [
    "#print(rules)\n",
    "# print(type(rules))\n",
    "# print(rules.columns)\n",
    "# print(rules.iloc[0])\n",
    "# print(rules.iloc[0]['antecedents'])\n",
    "# print(rules.iloc[0]['consequents'])\n",
    "rule = rules.iloc[0]\n",
    "\n",
    "print(rule['antecedents'])\n",
    "print(list(rule['antecedents']))\n",
    "print(rule['consequents'])\n",
    "print(list(rule['consequents']))"
   ]
  },
  {
   "cell_type": "code",
   "execution_count": 14,
   "metadata": {},
   "outputs": [
    {
     "name": "stdout",
     "output_type": "stream",
     "text": [
      "frozenset({' CSS', ' HTML'})\n"
     ]
    }
   ],
   "source": [
    "print(top_3_sets.iloc[0]['itemsets'])\n",
    "#list = list(top_3_sets.iloc[0]['itemsets'])\n",
    "# print(list[0])\n"
   ]
  },
  {
   "cell_type": "code",
   "execution_count": 21,
   "metadata": {},
   "outputs": [
    {
     "data": {
      "text/markdown": [
       "<h3><font color=\"pink\" size=5>Top most frequent languages and rules</font></h3> <font size=4>\n",
       "<font color=\"pink\">✦</font> The Top first itemset is [' CSS', ' HTML'] with a support of 9.17%.<br><br><font color=\"pink\">✦</font> The Top second itemset is ['JavaScript', ' HTML'] with a support of 6.76%.<br><br><font color=\"pink\">✦</font> The Top third itemset is ['JavaScript', ' CSS'] with a support of 6.11%.<br><br><font color=\"pink\">✦</font> The Top first rule is  CSS ->  HTML with a confidence of 63.44%.<br><br><font color=\"pink\">✦</font> The Top second rule is  HTML ->  CSS with a confidence of 53.46%.<br><br><font color=\"pink\">✦</font> The Top third rule is  JavaScript ->  CSS with a confidence of 47.47%.<br><br><font color=\"pink\">✦</font> The Top fourth rule is  JavaScript ->  HTML with a confidence of 46.07%.<br><br></font>"
      ],
      "text/plain": [
       "<IPython.core.display.Markdown object>"
      ]
     },
     "metadata": {},
     "output_type": "display_data"
    }
   ],
   "source": [
    "convey_insights(\n",
    "    [\n",
    "        \"The Top first itemset is {} with a support of {}%.\".format(list(top_3_sets.iloc[0]['itemsets']), round(top_3_sets.iloc[0]['support']*100, 2)),\n",
    "        \"The Top second itemset is {} with a support of {}%.\".format(list(top_3_sets.iloc[1]['itemsets']), round(top_3_sets.iloc[1]['support']*100, 2)),\n",
    "        \"The Top third itemset is {} with a support of {}%.\".format(list(top_3_sets.iloc[2]['itemsets']), round(top_3_sets.iloc[2]['support']*100, 2)),\n",
    "        \"The Top first rule is {} -> {} with a confidence of {}%.\".format(list(sorted_rules.iloc[0]['antecedents'])[0], list(sorted_rules.iloc[0]['consequents'])[0], round(sorted_rules.iloc[0]['confidence']*100, 2)),\n",
    "        \"The Top second rule is {} -> {} with a confidence of {}%.\".format(list(sorted_rules.iloc[1]['antecedents'])[0], list(sorted_rules.iloc[1]['consequents'])[0], round(sorted_rules.iloc[1]['confidence']*100, 2)),\n",
    "        \"The Top third rule is {} -> {} with a confidence of {}%.\".format(list(sorted_rules.iloc[2]['antecedents'])[0], list(sorted_rules.iloc[2]['consequents'])[0], round(sorted_rules.iloc[2]['confidence']*100, 2)),\n",
    "        \"The Top fourth rule is {} -> {} with a confidence of {}%.\".format(list(sorted_rules.iloc[3]['antecedents'])[0], list(sorted_rules.iloc[3]['consequents'])[0], round(sorted_rules.iloc[3]['confidence']*100, 2)),\n",
    "\n",
    "    ]\n",
    ",\"Top most frequent languages and rules\")"
   ]
  },
  {
   "attachments": {},
   "cell_type": "markdown",
   "metadata": {},
   "source": [
    "<span style=\"font-family:Avenir;\">\n",
    "\n",
    "<table style=\"width:100%; border-collapse:collapse; table-layout:fixed;\">\n",
    "  <thead>\n",
    "    <tr>\n",
    "      <th style=\"padding:10px; border:0.5px solid grey; text-align: center; width:33.33%;\">\n",
    "      <font color=\"DeepSkyBlue\">Set Expectations</font>\n",
    "      </th>\n",
    "      <th style=\"padding:10px; border:0.5px solid grey; text-align: center; width:33.33%;\">\n",
    "      <font color=\"DeepSkyBlue\">Collect Data</font>\n",
    "      </th>\n",
    "      <th style=\"padding:10px; border:0.5px solid grey; text-align: center; width:33.33%;\">\n",
    "      <font color=\"DeepSkyBlue\">Match Expectations & Data</font>\n",
    "      </th>\n",
    "    </tr>\n",
    "  </thead>\n",
    "  <tbody>\n",
    "    <tr>\n",
    "      <td style=\"padding:10px; border:0.5px solid grey; text-align: center; width:33.33%;\">\n",
    "      Web development programming languages are the most used programming languages sets.\n",
    "      </td>\n",
    "      <td style=\"padding:10px; border:0.5px solid grey; text-align: center; width:33.33%;\">\n",
    "      HTML, CSS, and JavaScript are the most appeared in the resulted most used programming languages sets.\n",
    "      </td>\n",
    "      <td style=\"padding:10px; border:0.5px solid grey; text-align: center; width:33.33%;\">\n",
    "      Expectations and data match.\n",
    "      </td>\n",
    "    </tr>\n",
    "  </tbody>\n",
    "</table>\n",
    "\n",
    "</span>\n",
    "\n"
   ]
  },
  {
   "attachments": {},
   "cell_type": "markdown",
   "metadata": {},
   "source": [
    "<span style=\"font-family:Avenir;\">\n",
    "<font color=\"LavenderBlush\"> <h2> Communicating Results</h2> </font>\n",
    "</span>"
   ]
  },
  {
   "cell_type": "code",
   "execution_count": 22,
   "metadata": {},
   "outputs": [
    {
     "data": {
      "text/markdown": [
       "<h3><font color=\"pink\" size=5>Top most frequent languages and rules</font></h3> <font size=4>\n",
       "<font color=\"pink\">✦</font> As In web programming many languages are used together, the most frequent itemsets are of size are all for web programming languages.<br><br><font color=\"pink\">✦</font> Also the top rules are between web programming languages.<br><br><font color=\"pink\">✦</font> The Top first itemset is [' CSS', ' HTML'] with a support of 9.17%.<br><br><font color=\"pink\">✦</font> The Top second itemset is ['JavaScript', ' HTML'] with a support of 6.76%.<br><br><font color=\"pink\">✦</font> The Top third itemset is ['JavaScript', ' CSS'] with a support of 6.11%.<br><br><font color=\"pink\">✦</font> The Top first rule is  CSS ->  HTML with a confidence of 63.44%.<br><br><font color=\"pink\">✦</font> The Top second rule is  HTML ->  CSS with a confidence of 53.46%.<br><br><font color=\"pink\">✦</font> The Top third rule is  JavaScript ->  CSS with a confidence of 47.47%.<br><br><font color=\"pink\">✦</font> The Top fourth rule is  JavaScript ->  HTML with a confidence of 46.07%.<br><br></font>"
      ],
      "text/plain": [
       "<IPython.core.display.Markdown object>"
      ]
     },
     "metadata": {},
     "output_type": "display_data"
    }
   ],
   "source": [
    "convey_insights(\n",
    "    [\n",
    "        \"As In web programming many languages are used together, the most frequent itemsets are of size are all for web programming languages.\",\n",
    "        \"Also the top rules are between web programming languages.\",\n",
    "        \"The Top first itemset is {} with a support of {}%.\".format(list(top_3_sets.iloc[0]['itemsets']), round(top_3_sets.iloc[0]['support']*100, 2)),\n",
    "        \"The Top second itemset is {} with a support of {}%.\".format(list(top_3_sets.iloc[1]['itemsets']), round(top_3_sets.iloc[1]['support']*100, 2)),\n",
    "        \"The Top third itemset is {} with a support of {}%.\".format(list(top_3_sets.iloc[2]['itemsets']), round(top_3_sets.iloc[2]['support']*100, 2)),\n",
    "        \"The Top first rule is {} -> {} with a confidence of {}%.\".format(list(sorted_rules.iloc[0]['antecedents'])[0], list(sorted_rules.iloc[0]['consequents'])[0], round(sorted_rules.iloc[0]['confidence']*100, 2)),\n",
    "        \"The Top second rule is {} -> {} with a confidence of {}%.\".format(list(sorted_rules.iloc[1]['antecedents'])[0], list(sorted_rules.iloc[1]['consequents'])[0], round(sorted_rules.iloc[1]['confidence']*100, 2)),\n",
    "        \"The Top third rule is {} -> {} with a confidence of {}%.\".format(list(sorted_rules.iloc[2]['antecedents'])[0], list(sorted_rules.iloc[2]['consequents'])[0], round(sorted_rules.iloc[2]['confidence']*100, 2)),\n",
    "        \"The Top fourth rule is {} -> {} with a confidence of {}%.\".format(list(sorted_rules.iloc[3]['antecedents'])[0], list(sorted_rules.iloc[3]['consequents'])[0], round(sorted_rules.iloc[3]['confidence']*100, 2)),\n",
    "\n",
    "    ]\n",
    ",\"Top most frequent languages and rules\")"
   ]
  },
  {
   "attachments": {},
   "cell_type": "markdown",
   "metadata": {},
   "source": [
    "<span style=\"font-family:Avenir;\">\n",
    "\n",
    "<table style=\"width:100%; border-collapse:collapse; table-layout:fixed;\">\n",
    "  <thead>\n",
    "    <tr>\n",
    "      <th style=\"padding:10px; border:0.5px solid grey; text-align: center; width:33.33%;\">\n",
    "      <font color=\"DeepSkyBlue\">Set Expectations</font>\n",
    "      </th>\n",
    "      <th style=\"padding:10px; border:0.5px solid grey; text-align: center; width:33.33%;\">\n",
    "      <font color=\"DeepSkyBlue\">Collect Data</font>\n",
    "      </th>\n",
    "      <th style=\"padding:10px; border:0.5px solid grey; text-align: center; width:33.33%;\">\n",
    "      <font color=\"DeepSkyBlue\">Match Expectations & Data</font>\n",
    "      </th>\n",
    "    </tr>\n",
    "  </thead>\n",
    "  <tbody>\n",
    "    <tr>\n",
    "      <td style=\"padding:10px; border:0.5px solid grey; text-align: center; width:33.33%;\">\n",
    "      The results are logical and the professor will be satisfied.\n",
    "      </td>\n",
    "      <td style=\"padding:10px; border:0.5px solid grey; text-align: center; width:33.33%;\">\n",
    "      The shown results.\n",
    "      </td>\n",
    "      <td style=\"padding:10px; border:0.5px solid grey; text-align: center; width:33.33%;\">\n",
    "      Will see soon.\n",
    "      </td>\n",
    "    </tr>\n",
    "  </tbody>\n",
    "</table>\n",
    "\n",
    "</span>\n",
    "\n"
   ]
  }
 ],
 "metadata": {
  "kernelspec": {
   "display_name": "Python 3",
   "language": "python",
   "name": "python3"
  },
  "language_info": {
   "codemirror_mode": {
    "name": "ipython",
    "version": 3
   },
   "file_extension": ".py",
   "mimetype": "text/x-python",
   "name": "python",
   "nbconvert_exporter": "python",
   "pygments_lexer": "ipython3",
   "version": "3.9.7"
  },
  "orig_nbformat": 4
 },
 "nbformat": 4,
 "nbformat_minor": 2
}
