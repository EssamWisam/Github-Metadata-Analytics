{
 "cells": [
  {
   "attachments": {},
   "cell_type": "markdown",
   "metadata": {},
   "source": [
    "<span style=\"font-family:Avenir;\">\n",
    "<font color=\"yellow\"> <h1> Example </font> Title </h1> \n",
    "</span>"
   ]
  },
  {
   "attachments": {},
   "cell_type": "markdown",
   "metadata": {},
   "source": [
    "<span style=\"font-family:Avenir;\">\n",
    "<font color=\"LavenderBlush\"> <h2> Stating Questions </h2> </font>\n",
    "</span>\n",
    "\n"
   ]
  },
  {
   "attachments": {},
   "cell_type": "markdown",
   "metadata": {},
   "source": [
    "<span style=\"font-family:Avenir; font-size:1.4em;\">\n",
    "✦ <font color=\"Cyan\"> Does </font>the\n",
    "<font color=\"Pink\"> language </font> with the\n",
    "<font color=\"Cyan\"> most archived repositories</font> in the\n",
    "<font color=\"Pink\"> period (2009 and 2015) </font> \n",
    "<font color=\"Cyan\"> generalize</font> to the whole\n",
    "<font color=\"Pink\"> period (2009 to 2023) </font>?\n",
    "</span>\n"
   ]
  },
  {
   "attachments": {},
   "cell_type": "markdown",
   "metadata": {},
   "source": [
    "<span style=\"font-family:Avenir;\">\n",
    "\n",
    "<table style=\"width:100%; border-collapse:collapse; table-layout:fixed;\">\n",
    "  <thead>\n",
    "    <tr>\n",
    "      <th style=\"padding:10px; border:0.5px solid grey; text-align: center; width:33.33%;\">\n",
    "      <font color=\"DeepSkyBlue\">Set Expectations</font>\n",
    "      </th>\n",
    "      <th style=\"padding:10px; border:0.5px solid grey; text-align: center; width:33.33%;\">\n",
    "      <font color=\"DeepSkyBlue\">Collect Data</font>\n",
    "      </th>\n",
    "      <th style=\"padding:10px; border:0.5px solid grey; text-align: center; width:33.33%;\">\n",
    "      <font color=\"DeepSkyBlue\">Match Expectations & Data</font>\n",
    "      </th>\n",
    "    </tr>\n",
    "  </thead>\n",
    "  <tbody>\n",
    "    <tr>\n",
    "      <td style=\"padding:10px; border:0.5px solid grey; text-align: center; width:33.33%;\">\n",
    "      The question is specific, interest and novel.\n",
    "      </td>\n",
    "      <td style=\"padding:10px; border:0.5px solid grey; text-align: center; width:33.33%;\">\n",
    "      The question is specific and answerable using a statistical test. It is interesting as it will help the business in the chioce of the programming language to use in the next project (the question is directly related to the community support). It is novel as my research did not find any similar question.\n",
    "      </td>\n",
    "      <td style=\"padding:10px; border:0.5px solid grey; text-align: center; width:33.33%;\">\n",
    "      The question is indeed specific, interest and novel.\n",
    "      </td>\n",
    "    </tr>\n",
    "  </tbody>\n",
    "</table>\n",
    "\n",
    "</span>\n",
    "\n"
   ]
  },
  {
   "attachments": {},
   "cell_type": "markdown",
   "metadata": {},
   "source": [
    "<span style=\"font-family:Avenir;\">\n",
    "<font color=\"LavenderBlush\"> <h2> Exploratory Data Analytics</h2> </font>\n",
    "</span>"
   ]
  },
  {
   "attachments": {},
   "cell_type": "markdown",
   "metadata": {},
   "source": [
    "### imports"
   ]
  },
  {
   "cell_type": "code",
   "execution_count": 2,
   "metadata": {},
   "outputs": [],
   "source": [
    "import sys; sys.path.append('../../')\n",
    "from DataPreparation.Preprocess import read_data \n",
    "from DataPreparation.Visualize import convey_insights"
   ]
  },
  {
   "cell_type": "code",
   "execution_count": 3,
   "metadata": {},
   "outputs": [],
   "source": [
    "# TODO:Remove\n",
    "import pandas as pd\n",
    "import matplotlib.pyplot as plt\n",
    "import seaborn as sns\n",
    "import numpy as np\n",
    "import warnings\n",
    "warnings.filterwarnings('ignore')\n",
    "plt.style.use('dark_background')"
   ]
  },
  {
   "attachments": {},
   "cell_type": "markdown",
   "metadata": {},
   "source": [
    "### Read Data"
   ]
  },
  {
   "cell_type": "code",
   "execution_count": 4,
   "metadata": {},
   "outputs": [],
   "source": [
    "x_data_d, _ = read_data(kind=\"all\", fix=True)"
   ]
  },
  {
   "cell_type": "code",
   "execution_count": 5,
   "metadata": {},
   "outputs": [],
   "source": [
    "# TODO:Remove\n",
    "def replace_missing_with_document(x_data_d):\n",
    "  return x_data_d.replace({'primaryLanguage': {'-1': 'Document'}})\n",
    "\n",
    "x_data_d = replace_missing_with_document(x_data_d)\n",
    "\n",
    "def filter_languages_by_support(x_data_d, minimum_support = 1000):\n",
    "  language_counts = x_data_d['primaryLanguage'].value_counts()\n",
    "  languages_to_remove = language_counts[language_counts < minimum_support].index\n",
    "  return x_data_d[~x_data_d['primaryLanguage'].isin(languages_to_remove)]\n",
    "\n",
    "x_data_d = filter_languages_by_support(x_data_d)\n",
    "\n",
    "def remove_outliers(x_data, col):\n",
    "  '''\n",
    "    Removes outliers from the given column\n",
    "  '''\n",
    "  q1 = x_data[col].quantile(0.25)\n",
    "  q3 = x_data[col].quantile(0.75)\n",
    "  iqr = q3 - q1\n",
    "  x_data = x_data[x_data[col] < q3 + 1.5 * iqr]\n",
    "  x_data = x_data[x_data[col] > q1 - 1.5 * iqr]\n",
    "  return x_data\n",
    "\n",
    "# Create a new column for year\n",
    "x_data_d['year'] = x_data_d['createdAt'].dt.year"
   ]
  },
  {
   "attachments": {},
   "cell_type": "markdown",
   "metadata": {},
   "source": [
    "### Get the languages archival data"
   ]
  },
  {
   "cell_type": "code",
   "execution_count": 6,
   "metadata": {},
   "outputs": [
    {
     "data": {
      "text/markdown": [
       "<h3><font color=\"pink\" size=5></font></h3> <font size=4>\n",
       "<font color=\"pink\">✦</font> The top archival rate language is 'Ruby'<br><br></font>"
      ],
      "text/plain": [
       "<IPython.core.display.Markdown object>"
      ]
     },
     "metadata": {},
     "output_type": "display_data"
    },
    {
     "data": {
      "text/html": [
       "<style  type=\"text/css\" >\n",
       "#T_e988e_row0_col1{\n",
       "            background-color:  #bcd7eb;\n",
       "            color:  #000000;\n",
       "        }#T_e988e_row0_col2{\n",
       "            background-color:  #eef5fc;\n",
       "            color:  #000000;\n",
       "        }#T_e988e_row0_col3,#T_e988e_row2_col1,#T_e988e_row2_col2{\n",
       "            background-color:  #08306b;\n",
       "            color:  #f1f1f1;\n",
       "        }#T_e988e_row1_col1{\n",
       "            background-color:  #b5d4e9;\n",
       "            color:  #000000;\n",
       "        }#T_e988e_row1_col2{\n",
       "            background-color:  #e7f0fa;\n",
       "            color:  #000000;\n",
       "        }#T_e988e_row1_col3{\n",
       "            background-color:  #083d7f;\n",
       "            color:  #f1f1f1;\n",
       "        }#T_e988e_row2_col3{\n",
       "            background-color:  #3282be;\n",
       "            color:  #000000;\n",
       "        }#T_e988e_row3_col1,#T_e988e_row5_col3{\n",
       "            background-color:  #81badb;\n",
       "            color:  #000000;\n",
       "        }#T_e988e_row3_col2,#T_e988e_row4_col3{\n",
       "            background-color:  #7ab6d9;\n",
       "            color:  #000000;\n",
       "        }#T_e988e_row3_col3{\n",
       "            background-color:  #72b2d8;\n",
       "            color:  #000000;\n",
       "        }#T_e988e_row4_col1{\n",
       "            background-color:  #bed8ec;\n",
       "            color:  #000000;\n",
       "        }#T_e988e_row4_col2{\n",
       "            background-color:  #c9ddf0;\n",
       "            color:  #000000;\n",
       "        }#T_e988e_row5_col1{\n",
       "            background-color:  #deebf7;\n",
       "            color:  #000000;\n",
       "        }#T_e988e_row5_col2{\n",
       "            background-color:  #f2f7fd;\n",
       "            color:  #000000;\n",
       "        }#T_e988e_row6_col1,#T_e988e_row6_col2{\n",
       "            background-color:  #f5fafe;\n",
       "            color:  #000000;\n",
       "        }#T_e988e_row6_col3{\n",
       "            background-color:  #f3f8fe;\n",
       "            color:  #000000;\n",
       "        }#T_e988e_row7_col1,#T_e988e_row7_col2,#T_e988e_row7_col3{\n",
       "            background-color:  #f7fbff;\n",
       "            color:  #000000;\n",
       "        }</style><table id=\"T_e988e_\" ><caption>2009-2015</caption><thead>    <tr>        <th class=\"blank level0\" ></th>        <th class=\"col_heading level0 col0\" >primaryLanguage</th>        <th class=\"col_heading level0 col1\" >sum</th>        <th class=\"col_heading level0 col2\" >count</th>        <th class=\"col_heading level0 col3\" >archival_rate</th>    </tr></thead><tbody>\n",
       "                <tr>\n",
       "                        <th id=\"T_e988e_level0_row0\" class=\"row_heading level0 row0\" >0</th>\n",
       "                        <td id=\"T_e988e_row0_col0\" class=\"data row0 col0\" >Ruby</td>\n",
       "                        <td id=\"T_e988e_row0_col1\" class=\"data row0 col1\" >362</td>\n",
       "                        <td id=\"T_e988e_row0_col2\" class=\"data row0 col2\" >3360</td>\n",
       "                        <td id=\"T_e988e_row0_col3\" class=\"data row0 col3\" >0.107738</td>\n",
       "            </tr>\n",
       "            <tr>\n",
       "                        <th id=\"T_e988e_level0_row1\" class=\"row_heading level0 row1\" >1</th>\n",
       "                        <td id=\"T_e988e_row1_col0\" class=\"data row1 col0\" >PHP</td>\n",
       "                        <td id=\"T_e988e_row1_col1\" class=\"data row1 col1\" >378</td>\n",
       "                        <td id=\"T_e988e_row1_col2\" class=\"data row1 col2\" >3617</td>\n",
       "                        <td id=\"T_e988e_row1_col3\" class=\"data row1 col3\" >0.104506</td>\n",
       "            </tr>\n",
       "            <tr>\n",
       "                        <th id=\"T_e988e_level0_row2\" class=\"row_heading level0 row2\" >2</th>\n",
       "                        <td id=\"T_e988e_row2_col0\" class=\"data row2 col0\" >JavaScript</td>\n",
       "                        <td id=\"T_e988e_row2_col1\" class=\"data row2 col1\" >924</td>\n",
       "                        <td id=\"T_e988e_row2_col2\" class=\"data row2 col2\" >10417</td>\n",
       "                        <td id=\"T_e988e_row2_col3\" class=\"data row2 col3\" >0.088701</td>\n",
       "            </tr>\n",
       "            <tr>\n",
       "                        <th id=\"T_e988e_level0_row3\" class=\"row_heading level0 row3\" >3</th>\n",
       "                        <td id=\"T_e988e_row3_col0\" class=\"data row3 col0\" >Python</td>\n",
       "                        <td id=\"T_e988e_row3_col1\" class=\"data row3 col1\" >491</td>\n",
       "                        <td id=\"T_e988e_row3_col2\" class=\"data row3 col2\" >6427</td>\n",
       "                        <td id=\"T_e988e_row3_col3\" class=\"data row3 col3\" >0.076396</td>\n",
       "            </tr>\n",
       "            <tr>\n",
       "                        <th id=\"T_e988e_level0_row4\" class=\"row_heading level0 row4\" >4</th>\n",
       "                        <td id=\"T_e988e_row4_col0\" class=\"data row4 col0\" >Java</td>\n",
       "                        <td id=\"T_e988e_row4_col1\" class=\"data row4 col1\" >358</td>\n",
       "                        <td id=\"T_e988e_row4_col2\" class=\"data row4 col2\" >4751</td>\n",
       "                        <td id=\"T_e988e_row4_col3\" class=\"data row4 col3\" >0.075353</td>\n",
       "            </tr>\n",
       "            <tr>\n",
       "                        <th id=\"T_e988e_level0_row5\" class=\"row_heading level0 row5\" >5</th>\n",
       "                        <td id=\"T_e988e_row5_col0\" class=\"data row5 col0\" >Document</td>\n",
       "                        <td id=\"T_e988e_row5_col1\" class=\"data row5 col1\" >240</td>\n",
       "                        <td id=\"T_e988e_row5_col2\" class=\"data row5 col2\" >3227</td>\n",
       "                        <td id=\"T_e988e_row5_col3\" class=\"data row5 col3\" >0.074372</td>\n",
       "            </tr>\n",
       "            <tr>\n",
       "                        <th id=\"T_e988e_level0_row6\" class=\"row_heading level0 row6\" >6</th>\n",
       "                        <td id=\"T_e988e_row6_col0\" class=\"data row6 col0\" >C</td>\n",
       "                        <td id=\"T_e988e_row6_col1\" class=\"data row6 col1\" >149</td>\n",
       "                        <td id=\"T_e988e_row6_col2\" class=\"data row6 col2\" >3065</td>\n",
       "                        <td id=\"T_e988e_row6_col3\" class=\"data row6 col3\" >0.048613</td>\n",
       "            </tr>\n",
       "            <tr>\n",
       "                        <th id=\"T_e988e_level0_row7\" class=\"row_heading level0 row7\" >7</th>\n",
       "                        <td id=\"T_e988e_row7_col0\" class=\"data row7 col0\" >C++</td>\n",
       "                        <td id=\"T_e988e_row7_col1\" class=\"data row7 col1\" >142</td>\n",
       "                        <td id=\"T_e988e_row7_col2\" class=\"data row7 col2\" >3007</td>\n",
       "                        <td id=\"T_e988e_row7_col3\" class=\"data row7 col3\" >0.047223</td>\n",
       "            </tr>\n",
       "    </tbody></table>"
      ],
      "text/plain": [
       "<pandas.io.formats.style.Styler at 0x14effbdeb80>"
      ]
     },
     "metadata": {},
     "output_type": "display_data"
    },
    {
     "data": {
      "text/html": [
       "<style  type=\"text/css\" >\n",
       "#T_525ff_row0_col1{\n",
       "            background-color:  #dbe9f6;\n",
       "            color:  #000000;\n",
       "        }#T_525ff_row0_col2{\n",
       "            background-color:  #ebf3fb;\n",
       "            color:  #000000;\n",
       "        }#T_525ff_row0_col3,#T_525ff_row2_col1,#T_525ff_row2_col2{\n",
       "            background-color:  #08306b;\n",
       "            color:  #f1f1f1;\n",
       "        }#T_525ff_row1_col1,#T_525ff_row4_col3{\n",
       "            background-color:  #c6dbef;\n",
       "            color:  #000000;\n",
       "        }#T_525ff_row1_col2{\n",
       "            background-color:  #d4e4f4;\n",
       "            color:  #000000;\n",
       "        }#T_525ff_row1_col3{\n",
       "            background-color:  #3080bd;\n",
       "            color:  #000000;\n",
       "        }#T_525ff_row2_col3{\n",
       "            background-color:  #a5cde3;\n",
       "            color:  #000000;\n",
       "        }#T_525ff_row3_col1{\n",
       "            background-color:  #f4f9fe;\n",
       "            color:  #000000;\n",
       "        }#T_525ff_row3_col2{\n",
       "            background-color:  #f5fafe;\n",
       "            color:  #000000;\n",
       "        }#T_525ff_row3_col3{\n",
       "            background-color:  #b2d2e8;\n",
       "            color:  #000000;\n",
       "        }#T_525ff_row4_col1{\n",
       "            background-color:  #e3eef9;\n",
       "            color:  #000000;\n",
       "        }#T_525ff_row4_col2{\n",
       "            background-color:  #e3eef8;\n",
       "            color:  #000000;\n",
       "        }#T_525ff_row5_col1{\n",
       "            background-color:  #dfecf7;\n",
       "            color:  #000000;\n",
       "        }#T_525ff_row5_col2,#T_525ff_row8_col1{\n",
       "            background-color:  #deebf7;\n",
       "            color:  #000000;\n",
       "        }#T_525ff_row5_col3{\n",
       "            background-color:  #c7dbef;\n",
       "            color:  #000000;\n",
       "        }#T_525ff_row6_col1,#T_525ff_row6_col2,#T_525ff_row9_col3{\n",
       "            background-color:  #f7fbff;\n",
       "            color:  #000000;\n",
       "        }#T_525ff_row6_col3{\n",
       "            background-color:  #cfe1f2;\n",
       "            color:  #000000;\n",
       "        }#T_525ff_row7_col1{\n",
       "            background-color:  #dceaf6;\n",
       "            color:  #000000;\n",
       "        }#T_525ff_row7_col2{\n",
       "            background-color:  #d6e6f4;\n",
       "            color:  #000000;\n",
       "        }#T_525ff_row7_col3{\n",
       "            background-color:  #dae8f6;\n",
       "            color:  #000000;\n",
       "        }#T_525ff_row8_col2{\n",
       "            background-color:  #d3e4f3;\n",
       "            color:  #000000;\n",
       "        }#T_525ff_row8_col3{\n",
       "            background-color:  #f3f8fe;\n",
       "            color:  #000000;\n",
       "        }#T_525ff_row9_col1{\n",
       "            background-color:  #bed8ec;\n",
       "            color:  #000000;\n",
       "        }#T_525ff_row9_col2{\n",
       "            background-color:  #99c7e0;\n",
       "            color:  #000000;\n",
       "        }</style><table id=\"T_525ff_\" ><caption>2009-2023</caption><thead>    <tr>        <th class=\"blank level0\" ></th>        <th class=\"col_heading level0 col0\" >primaryLanguage</th>        <th class=\"col_heading level0 col1\" >sum</th>        <th class=\"col_heading level0 col2\" >count</th>        <th class=\"col_heading level0 col3\" >archival_rate</th>    </tr></thead><tbody>\n",
       "                <tr>\n",
       "                        <th id=\"T_525ff_level0_row0\" class=\"row_heading level0 row0\" >0</th>\n",
       "                        <td id=\"T_525ff_row0_col0\" class=\"data row0 col0\" >Ruby</td>\n",
       "                        <td id=\"T_525ff_row0_col1\" class=\"data row0 col1\" >444</td>\n",
       "                        <td id=\"T_525ff_row0_col2\" class=\"data row0 col2\" >4732</td>\n",
       "                        <td id=\"T_525ff_row0_col3\" class=\"data row0 col3\" >0.093829</td>\n",
       "            </tr>\n",
       "            <tr>\n",
       "                        <th id=\"T_525ff_level0_row1\" class=\"row_heading level0 row1\" >1</th>\n",
       "                        <td id=\"T_525ff_row1_col0\" class=\"data row1 col0\" >PHP</td>\n",
       "                        <td id=\"T_525ff_row1_col1\" class=\"data row1 col1\" >660</td>\n",
       "                        <td id=\"T_525ff_row1_col2\" class=\"data row1 col2\" >8246</td>\n",
       "                        <td id=\"T_525ff_row1_col3\" class=\"data row1 col3\" >0.080039</td>\n",
       "            </tr>\n",
       "            <tr>\n",
       "                        <th id=\"T_525ff_level0_row2\" class=\"row_heading level0 row2\" >2</th>\n",
       "                        <td id=\"T_525ff_row2_col0\" class=\"data row2 col0\" >JavaScript</td>\n",
       "                        <td id=\"T_525ff_row2_col1\" class=\"data row2 col1\" >2116</td>\n",
       "                        <td id=\"T_525ff_row2_col2\" class=\"data row2 col2\" >32684</td>\n",
       "                        <td id=\"T_525ff_row2_col3\" class=\"data row2 col3\" >0.064741</td>\n",
       "            </tr>\n",
       "            <tr>\n",
       "                        <th id=\"T_525ff_level0_row3\" class=\"row_heading level0 row3\" >3</th>\n",
       "                        <td id=\"T_525ff_row3_col0\" class=\"data row3 col0\" >CSS</td>\n",
       "                        <td id=\"T_525ff_row3_col1\" class=\"data row3 col1\" >199</td>\n",
       "                        <td id=\"T_525ff_row3_col2\" class=\"data row3 col2\" >3157</td>\n",
       "                        <td id=\"T_525ff_row3_col3\" class=\"data row3 col3\" >0.063035</td>\n",
       "            </tr>\n",
       "            <tr>\n",
       "                        <th id=\"T_525ff_level0_row4\" class=\"row_heading level0 row4\" >4</th>\n",
       "                        <td id=\"T_525ff_row4_col0\" class=\"data row4 col0\" >Shell</td>\n",
       "                        <td id=\"T_525ff_row4_col1\" class=\"data row4 col1\" >362</td>\n",
       "                        <td id=\"T_525ff_row4_col2\" class=\"data row4 col2\" >6021</td>\n",
       "                        <td id=\"T_525ff_row4_col3\" class=\"data row4 col3\" >0.060123</td>\n",
       "            </tr>\n",
       "            <tr>\n",
       "                        <th id=\"T_525ff_level0_row5\" class=\"row_heading level0 row5\" >5</th>\n",
       "                        <td id=\"T_525ff_row5_col0\" class=\"data row5 col0\" >Go</td>\n",
       "                        <td id=\"T_525ff_row5_col1\" class=\"data row5 col1\" >403</td>\n",
       "                        <td id=\"T_525ff_row5_col2\" class=\"data row5 col2\" >6723</td>\n",
       "                        <td id=\"T_525ff_row5_col3\" class=\"data row5 col3\" >0.059943</td>\n",
       "            </tr>\n",
       "            <tr>\n",
       "                        <th id=\"T_525ff_level0_row6\" class=\"row_heading level0 row6\" >6</th>\n",
       "                        <td id=\"T_525ff_row6_col0\" class=\"data row6 col0\" >Rust</td>\n",
       "                        <td id=\"T_525ff_row6_col1\" class=\"data row6 col1\" >168</td>\n",
       "                        <td id=\"T_525ff_row6_col2\" class=\"data row6 col2\" >2895</td>\n",
       "                        <td id=\"T_525ff_row6_col3\" class=\"data row6 col3\" >0.058031</td>\n",
       "            </tr>\n",
       "            <tr>\n",
       "                        <th id=\"T_525ff_level0_row7\" class=\"row_heading level0 row7\" >7</th>\n",
       "                        <td id=\"T_525ff_row7_col0\" class=\"data row7 col0\" >C#</td>\n",
       "                        <td id=\"T_525ff_row7_col1\" class=\"data row7 col1\" >433</td>\n",
       "                        <td id=\"T_525ff_row7_col2\" class=\"data row7 col2\" >7820</td>\n",
       "                        <td id=\"T_525ff_row7_col3\" class=\"data row7 col3\" >0.055371</td>\n",
       "            </tr>\n",
       "            <tr>\n",
       "                        <th id=\"T_525ff_level0_row8\" class=\"row_heading level0 row8\" >8</th>\n",
       "                        <td id=\"T_525ff_row8_col0\" class=\"data row8 col0\" >TypeScript</td>\n",
       "                        <td id=\"T_525ff_row8_col1\" class=\"data row8 col1\" >415</td>\n",
       "                        <td id=\"T_525ff_row8_col2\" class=\"data row8 col2\" >8335</td>\n",
       "                        <td id=\"T_525ff_row8_col3\" class=\"data row8 col3\" >0.049790</td>\n",
       "            </tr>\n",
       "            <tr>\n",
       "                        <th id=\"T_525ff_level0_row9\" class=\"row_heading level0 row9\" >9</th>\n",
       "                        <td id=\"T_525ff_row9_col0\" class=\"data row9 col0\" >Java</td>\n",
       "                        <td id=\"T_525ff_row9_col1\" class=\"data row9 col1\" >708</td>\n",
       "                        <td id=\"T_525ff_row9_col2\" class=\"data row9 col2\" >14489</td>\n",
       "                        <td id=\"T_525ff_row9_col3\" class=\"data row9 col3\" >0.048865</td>\n",
       "            </tr>\n",
       "    </tbody></table>"
      ],
      "text/plain": [
       "<pandas.io.formats.style.Styler at 0x14efc9ca790>"
      ]
     },
     "metadata": {},
     "output_type": "display_data"
    }
   ],
   "source": [
    "# TODO:Remove\n",
    "# Group by language and year\n",
    "archival_anual_data = x_data_d.groupby(['primaryLanguage', 'year'])[\"isArchived\"].agg(['sum', 'count']).reset_index()\n",
    "# Calculate the sum and count from 2009 to 2015 and 2009 to 2022\n",
    "archival_anual_data_2009_2015 = archival_anual_data[archival_anual_data['year'] < 2016].groupby(['primaryLanguage'])[\"sum\", \"count\"].sum().reset_index()\n",
    "archival_anual_data_2009_2022 = archival_anual_data.groupby(['primaryLanguage'])[\"sum\", \"count\"].sum().reset_index()\n",
    "# Remove the languages that have less than 1000 repositories\n",
    "archival_anual_data_2009_2015 = archival_anual_data_2009_2015[archival_anual_data_2009_2015['count'] > 2000]\n",
    "archival_anual_data_2009_2022 = archival_anual_data_2009_2022[archival_anual_data_2009_2022['count'] > 2000]\n",
    "# Calculate the archival rate\n",
    "archival_anual_data_2009_2015['archival_rate'] = archival_anual_data_2009_2015['sum'] / archival_anual_data_2009_2015['count']\n",
    "archival_anual_data_2009_2015 = archival_anual_data_2009_2015.sort_values(by=['archival_rate'], ascending=False).reset_index(drop=True)\n",
    "archival_anual_data_2009_2022['archival_rate'] = archival_anual_data_2009_2022['sum'] / archival_anual_data_2009_2022['count']\n",
    "archival_anual_data_2009_2022 = archival_anual_data_2009_2022.sort_values(by=['archival_rate'], ascending=False).reset_index(drop=True)\n",
    "# The top language \n",
    "top_language = archival_anual_data_2009_2015.iloc[0]['primaryLanguage']\n",
    "convey_insights([f\"The top archival rate language is '{top_language}'\"], '')\n",
    "# Show the top 10 languages\n",
    "display(archival_anual_data_2009_2015.head(10).style.background_gradient(cmap='Blues').set_caption(\"2009-2015\"))\n",
    "display(archival_anual_data_2009_2022.head(10).style.background_gradient(cmap='Blues').set_caption(\"2009-2023\"))"
   ]
  },
  {
   "attachments": {},
   "cell_type": "markdown",
   "metadata": {},
   "source": [
    "<span style=\"font-family:Avenir;\">\n",
    "\n",
    "<table style=\"width:100%; border-collapse:collapse; table-layout:fixed;\">\n",
    "  <thead>\n",
    "    <tr>\n",
    "      <th style=\"padding:10px; border:0.5px solid grey; text-align: center; width:33.33%;\">\n",
    "      <font color=\"DeepSkyBlue\">Set Expectations</font>\n",
    "      </th>\n",
    "      <th style=\"padding:10px; border:0.5px solid grey; text-align: center; width:33.33%;\">\n",
    "      <font color=\"DeepSkyBlue\">Collect Data</font>\n",
    "      </th>\n",
    "      <th style=\"padding:10px; border:0.5px solid grey; text-align: center; width:33.33%;\">\n",
    "      <font color=\"DeepSkyBlue\">Match Expectations & Data</font>\n",
    "      </th>\n",
    "    </tr>\n",
    "  </thead>\n",
    "  <tbody>\n",
    "    <tr>\n",
    "      <td style=\"padding:10px; border:0.5px solid grey; text-align: center; width:33.33%;\">\n",
    "      There are ratio of archived repositories is low across all languages.\n",
    "      </td>\n",
    "      <td style=\"padding:10px; border:0.5px solid grey; text-align: center; width:33.33%;\">\n",
    "      The data is shown in the above table.\n",
    "      </td>\n",
    "      <td style=\"padding:10px; border:0.5px solid grey; text-align: center; width:33.33%;\">\n",
    "      The data matches the expectations.\n",
    "      </td>\n",
    "    </tr>\n",
    "  </tbody>\n",
    "</table>\n",
    "\n",
    "</span>\n",
    "\n"
   ]
  },
  {
   "attachments": {},
   "cell_type": "markdown",
   "metadata": {},
   "source": [
    "<span style=\"font-family:Avenir;\">\n",
    "<font color=\"LavenderBlush\"> <h2> Model Building</h2> </font>\n",
    "</span>"
   ]
  },
  {
   "attachments": {},
   "cell_type": "markdown",
   "metadata": {},
   "source": [
    "### Applying the statistical test (Two Proportion Z-test)"
   ]
  },
  {
   "cell_type": "code",
   "execution_count": 7,
   "metadata": {},
   "outputs": [
    {
     "data": {
      "text/markdown": [
       "<h3><font color=\"pink\" size=5>Proportion difference test results</font></h3> <font size=4>\n",
       "</font>"
      ],
      "text/plain": [
       "<IPython.core.display.Markdown object>"
      ]
     },
     "metadata": {},
     "output_type": "display_data"
    },
    {
     "data": {
      "text/markdown": [
       "<h3><font color=\"pink\" size=5></font></h3> <font size=4>\n",
       "<font color=\"pink\">✦</font> The difference between 'Ruby' and the other languages is statistically significant<br><br></font>"
      ],
      "text/plain": [
       "<IPython.core.display.Markdown object>"
      ]
     },
     "metadata": {},
     "output_type": "display_data"
    }
   ],
   "source": [
    "# TODO: Remove\n",
    "from statsmodels.stats.proportion import proportions_ztest\n",
    "# Do a hypothesis test for the top language against the rest of the languages\n",
    "# Top language data\n",
    "top_language_data = archival_anual_data_2009_2022[archival_anual_data_2009_2022['primaryLanguage'] == top_language]\n",
    "# Loop through the rest of the languages\n",
    "convey_insights([], 'Proportion difference test results')\n",
    "for index, row in archival_anual_data_2009_2022['primaryLanguage'].iteritems():\n",
    "  if row != top_language:\n",
    "    # Get the data for the current language\n",
    "    current_language_data = archival_anual_data_2009_2022[archival_anual_data_2009_2022['primaryLanguage'] == row]\n",
    "    # Get the values\n",
    "    top_language_archived = top_language_data['sum'].iloc[0]\n",
    "    current_language_archived = current_language_data['sum'].iloc[0] \n",
    "    # Get the observations count\n",
    "    top_language_obs = top_language_data['count'].iloc[0]\n",
    "    current_language_obs = current_language_data['count'].iloc[0]\n",
    "    # Calculate the z-score and p-value\n",
    "    z_score, p_value = proportions_ztest([top_language_archived, current_language_archived], [top_language_obs, current_language_obs])\n",
    "    exsitence_of_difference = False\n",
    "    if p_value > 0.01:\n",
    "      exsitence_of_difference = True\n",
    "      convey_insights([f\"The difference between '{top_language}' and '{row}' is not statistically significant\"], '')\n",
    "\n",
    "if not exsitence_of_difference:\n",
    "  convey_insights([f\"The difference between '{top_language}' and the other languages is statistically significant\"], '')"
   ]
  },
  {
   "attachments": {},
   "cell_type": "markdown",
   "metadata": {},
   "source": [
    "<span style=\"font-family:Avenir;\">\n",
    "\n",
    "<table style=\"width:100%; border-collapse:collapse; table-layout:fixed;\">\n",
    "  <thead>\n",
    "    <tr>\n",
    "      <th style=\"padding:10px; border:0.5px solid grey; text-align: center; width:33.33%;\">\n",
    "      <font color=\"DeepSkyBlue\">Set Expectations</font>\n",
    "      </th>\n",
    "      <th style=\"padding:10px; border:0.5px solid grey; text-align: center; width:33.33%;\">\n",
    "      <font color=\"DeepSkyBlue\">Collect Data</font>\n",
    "      </th>\n",
    "      <th style=\"padding:10px; border:0.5px solid grey; text-align: center; width:33.33%;\">\n",
    "      <font color=\"DeepSkyBlue\">Match Expectations & Data</font>\n",
    "      </th>\n",
    "    </tr>\n",
    "  </thead>\n",
    "  <tbody>\n",
    "    <tr>\n",
    "      <td style=\"padding:10px; border:0.5px solid grey; text-align: center; width:33.33%;\">\n",
    "      The test is appropriate to answer the question.\n",
    "      </td>\n",
    "      <td style=\"padding:10px; border:0.5px solid grey; text-align: center; width:33.33%;\">\n",
    "      The test was applied to the data and the results are shown in the above cell.\n",
    "      </td>\n",
    "      <td style=\"padding:10px; border:0.5px solid grey; text-align: center; width:33.33%;\">\n",
    "      The model was able to answer the question.\n",
    "      </td>\n",
    "    </tr>\n",
    "  </tbody>\n",
    "</table>\n",
    "\n",
    "</span>\n",
    "\n"
   ]
  },
  {
   "attachments": {},
   "cell_type": "markdown",
   "metadata": {},
   "source": [
    "<span style=\"font-family:Avenir;\">\n",
    "<font color=\"LavenderBlush\"> <h2> Results & Interpretation</h2> </font>\n",
    "</span>"
   ]
  },
  {
   "cell_type": "code",
   "execution_count": 10,
   "metadata": {},
   "outputs": [
    {
     "data": {
      "text/markdown": [
       "<h3><font color=\"pink\" size=5></font></h3> <font size=4>\n",
       "<font color=\"pink\">✦</font> Ruby has the highest archival rate with statistical significance (p < 0.01) between it and all the languages<br><br></font>"
      ],
      "text/plain": [
       "<IPython.core.display.Markdown object>"
      ]
     },
     "metadata": {},
     "output_type": "display_data"
    }
   ],
   "source": [
    "convey_insights(['Ruby has the highest archival rate with statistical significance (p < 0.01) between it and all the languages'], '')"
   ]
  },
  {
   "attachments": {},
   "cell_type": "markdown",
   "metadata": {},
   "source": [
    "<span style=\"font-family:Avenir;\">\n",
    "\n",
    "<table style=\"width:100%; border-collapse:collapse; table-layout:fixed;\">\n",
    "  <thead>\n",
    "    <tr>\n",
    "      <th style=\"padding:10px; border:0.5px solid grey; text-align: center; width:33.33%;\">\n",
    "      <font color=\"DeepSkyBlue\">Set Expectations</font>\n",
    "      </th>\n",
    "      <th style=\"padding:10px; border:0.5px solid grey; text-align: center; width:33.33%;\">\n",
    "      <font color=\"DeepSkyBlue\">Collect Data</font>\n",
    "      </th>\n",
    "      <th style=\"padding:10px; border:0.5px solid grey; text-align: center; width:33.33%;\">\n",
    "      <font color=\"DeepSkyBlue\">Match Expectations & Data</font>\n",
    "      </th>\n",
    "    </tr>\n",
    "  </thead>\n",
    "  <tbody>\n",
    "    <tr>\n",
    "      <td style=\"padding:10px; border:0.5px solid grey; text-align: center; width:33.33%;\">\n",
    "      The analysis will answer the question.\n",
    "      </td>\n",
    "      <td style=\"padding:10px; border:0.5px solid grey; text-align: center; width:33.33%;\">\n",
    "      The answer is shown in the above cell.\n",
    "      </td>\n",
    "      <td style=\"padding:10px; border:0.5px solid grey; text-align: center; width:33.33%;\">\n",
    "      The question was answered.\n",
    "      </td>\n",
    "    </tr>\n",
    "  </tbody>\n",
    "</table>\n",
    "\n",
    "</span>\n",
    "\n"
   ]
  },
  {
   "attachments": {},
   "cell_type": "markdown",
   "metadata": {},
   "source": [
    "<span style=\"font-family:Avenir;\">\n",
    "<font color=\"LavenderBlush\"> <h2> Communicating Results</h2> </font>\n",
    "</span>"
   ]
  },
  {
   "cell_type": "code",
   "execution_count": 11,
   "metadata": {},
   "outputs": [
    {
     "data": {
      "text/markdown": [
       "<h3><font color=\"pink\" size=5>Insights</font></h3> <font size=4>\n",
       "<font color=\"pink\">✦</font> All languages have an archival rate of around 10% or less<br><br><font color=\"pink\">✦</font> Ruby has the highest archival rate with statistical significance (p < 0.01) between it and all the languages<br><br></font>"
      ],
      "text/plain": [
       "<IPython.core.display.Markdown object>"
      ]
     },
     "metadata": {},
     "output_type": "display_data"
    }
   ],
   "source": [
    "convey_insights([\n",
    "  'All languages have an archival rate of around 10% or less',\n",
    "  'Ruby has the highest archival rate with statistical significance (p < 0.01) between it and all the languages',\n",
    "                 ])"
   ]
  },
  {
   "cell_type": "markdown",
   "metadata": {},
   "source": [
    "<span style=\"font-family:Avenir;\">\n",
    "\n",
    "<table style=\"width:100%; border-collapse:collapse; table-layout:fixed;\">\n",
    "  <thead>\n",
    "    <tr>\n",
    "      <th style=\"padding:10px; border:0.5px solid grey; text-align: center; width:33.33%;\">\n",
    "      <font color=\"DeepSkyBlue\">Set Expectations</font>\n",
    "      </th>\n",
    "      <th style=\"padding:10px; border:0.5px solid grey; text-align: center; width:33.33%;\">\n",
    "      <font color=\"DeepSkyBlue\">Collect Data</font>\n",
    "      </th>\n",
    "      <th style=\"padding:10px; border:0.5px solid grey; text-align: center; width:33.33%;\">\n",
    "      <font color=\"DeepSkyBlue\">Match Expectations & Data</font>\n",
    "      </th>\n",
    "    </tr>\n",
    "  </thead>\n",
    "  <tbody>\n",
    "    <tr>\n",
    "      <td style=\"padding:10px; border:0.5px solid grey; text-align: center; width:33.33%;\">\n",
    "      Its as expected\n",
    "      </td>\n",
    "      <td style=\"padding:10px; border:0.5px solid grey; text-align: center; width:33.33%;\">\n",
    "      This is my data\n",
    "      </td>\n",
    "      <td style=\"padding:10px; border:0.5px solid grey; text-align: center; width:33.33%;\">\n",
    "      Suppose data is expectations; done.\n",
    "      </td>\n",
    "    </tr>\n",
    "  </tbody>\n",
    "</table>\n",
    "\n",
    "</span>\n",
    "\n"
   ]
  }
 ],
 "metadata": {
  "kernelspec": {
   "display_name": "base",
   "language": "python",
   "name": "python3"
  },
  "language_info": {
   "codemirror_mode": {
    "name": "ipython",
    "version": 3
   },
   "file_extension": ".py",
   "mimetype": "text/x-python",
   "name": "python",
   "nbconvert_exporter": "python",
   "pygments_lexer": "ipython3",
   "version": "3.8.8"
  },
  "orig_nbformat": 4
 },
 "nbformat": 4,
 "nbformat_minor": 2
}
