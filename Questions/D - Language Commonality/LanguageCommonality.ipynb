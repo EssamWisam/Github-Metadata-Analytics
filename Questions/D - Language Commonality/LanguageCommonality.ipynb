{
 "cells": [
  {
   "attachments": {},
   "cell_type": "markdown",
   "metadata": {},
   "source": [
    "<span style=\"font-family:Avenir;\">\n",
    "<font color=\"yellow\"> <h1> Language </font> Commonality </h1> \n",
    "</span>"
   ]
  },
  {
   "attachments": {},
   "cell_type": "markdown",
   "metadata": {},
   "source": [
    "<span style=\"font-family:Avenir;\">\n",
    "<font color=\"LavenderBlush\"> <h2> Stating Questions </h2> </font>\n",
    "</span>\n",
    "\n"
   ]
  },
  {
   "attachments": {},
   "cell_type": "markdown",
   "metadata": {},
   "source": [
    "<span style=\"font-family:Avenir; font-size:1.4em;\">\n",
    "✦ <font color=\"Cyan\"> What </font> is the <font color=\"Pink\"> distribution </font> of the  <font color=\"Cyan\"> most common </font>  <font color=\"Pink\"> primary language </font> over <font color=\"Pink\">time</font>?\n",
    "\n",
    "✦ What is the <font color=\"Pink\">distribution</font> of the  <font color=\"Cyan\"> underlying margin</font> compared to the <font color=\"Pink\">next most frequent</font> <font color=\"Cyan\">programming language</font>?\n",
    "</span>"
   ]
  },
  {
   "attachments": {},
   "cell_type": "markdown",
   "metadata": {},
   "source": [
    "<span style=\"font-family:Avenir;\">\n",
    "\n",
    "<table style=\"width:100%; border-collapse:collapse; table-layout:fixed;\">\n",
    "  <thead>\n",
    "    <tr>\n",
    "      <th style=\"padding:10px; border:0.5px solid grey; text-align: center; width:33.33%;\">\n",
    "      <font color=\"DeepSkyBlue\">Set Expectations</font>\n",
    "      </th>\n",
    "      <th style=\"padding:10px; border:0.5px solid grey; text-align: center; width:33.33%;\">\n",
    "      <font color=\"DeepSkyBlue\">Collect Data</font>\n",
    "      </th>\n",
    "      <th style=\"padding:10px; border:0.5px solid grey; text-align: center; width:33.33%;\">\n",
    "      <font color=\"DeepSkyBlue\">Match Expectations & Data</font>\n",
    "      </th>\n",
    "    </tr>\n",
    "  </thead>\n",
    "  <tbody>\n",
    "    <tr>\n",
    "      <td style=\"padding:10px; border:0.5px solid grey; text-align: center; width:33.33%;\">\n",
    "      The question is interesting and answerable.\n",
    "      </td>\n",
    "      <td style=\"padding:10px; border:0.5px solid grey; text-align: center; width:33.33%;\">\n",
    "      It is interesting because the developers need to know what language to learn. It is answerable because the data is available and we can use it with some statistical methods to answer the question.\n",
    "      </td>\n",
    "      <td style=\"padding:10px; border:0.5px solid grey; text-align: center; width:33.33%;\">\n",
    "      Data and expectations match.\n",
    "      </td>\n",
    "    </tr>\n",
    "  </tbody>\n",
    "</table>\n",
    "\n",
    "</span>\n",
    "\n"
   ]
  },
  {
   "attachments": {},
   "cell_type": "markdown",
   "metadata": {},
   "source": [
    "<span style=\"font-family:Avenir;\">\n",
    "<font color=\"LavenderBlush\"> <h2> Exploratory Data Analytics</h2> </font>\n",
    "</span>"
   ]
  },
  {
   "attachments": {},
   "cell_type": "markdown",
   "metadata": {},
   "source": [
    "### Imports"
   ]
  },
  {
   "cell_type": "code",
   "execution_count": 1,
   "metadata": {},
   "outputs": [],
   "source": [
    "import sys\n",
    "sys.path.append('../../')\n",
    "from DataPreparation.Preprocess import read_data \n",
    "from DataPreparation.Visualize import convey_insights\n",
    "sys.path.pop()\n",
    "from Logic import explore_primary_languages"
   ]
  },
  {
   "attachments": {},
   "cell_type": "markdown",
   "metadata": {},
   "source": [
    "### Reading Data"
   ]
  },
  {
   "cell_type": "code",
   "execution_count": 2,
   "metadata": {},
   "outputs": [],
   "source": [
    "data , _ = read_data(kind='all' , fix = True)"
   ]
  },
  {
   "attachments": {},
   "cell_type": "markdown",
   "metadata": {},
   "source": [
    "### Exploring languages in the dataset"
   ]
  },
  {
   "cell_type": "code",
   "execution_count": 3,
   "metadata": {},
   "outputs": [
    {
     "name": "stdout",
     "output_type": "stream",
     "text": [
      "377\n"
     ]
    }
   ],
   "source": [
    "languages = explore_primary_languages(data)\n",
    "print(len(languages))"
   ]
  },
  {
   "attachments": {},
   "cell_type": "markdown",
   "metadata": {},
   "source": [
    "<span style=\"font-family:Avenir;\">\n",
    "\n",
    "<table style=\"width:100%; border-collapse:collapse; table-layout:fixed;\">\n",
    "  <thead>\n",
    "    <tr>\n",
    "      <th style=\"padding:10px; border:0.5px solid grey; text-align: center; width:33.33%;\">\n",
    "      <font color=\"DeepSkyBlue\">Set Expectations</font>\n",
    "      </th>\n",
    "      <th style=\"padding:10px; border:0.5px solid grey; text-align: center; width:33.33%;\">\n",
    "      <font color=\"DeepSkyBlue\">Collect Data</font>\n",
    "      </th>\n",
    "      <th style=\"padding:10px; border:0.5px solid grey; text-align: center; width:33.33%;\">\n",
    "      <font color=\"DeepSkyBlue\">Match Expectations & Data</font>\n",
    "      </th>\n",
    "    </tr>\n",
    "  </thead>\n",
    "  <tbody>\n",
    "    <tr>\n",
    "      <td style=\"padding:10px; border:0.5px solid grey; text-align: center; width:33.33%;\">\n",
    "      There is many used programming languages in github.\n",
    "      </td>\n",
    "      <td style=\"padding:10px; border:0.5px solid grey; text-align: center; width:33.33%;\">\n",
    "      already found 377 unique languages in the dataset.\n",
    "      </td>\n",
    "      <td style=\"padding:10px; border:0.5px solid grey; text-align: center; width:33.33%;\">\n",
    "      expectations and data match.\n",
    "      </td>\n",
    "    </tr>\n",
    "  </tbody>\n",
    "</table>\n",
    "\n",
    "</span>\n",
    "\n"
   ]
  },
  {
   "attachments": {},
   "cell_type": "markdown",
   "metadata": {},
   "source": [
    "<span style=\"font-family:Avenir;\">\n",
    "<font color=\"LavenderBlush\"> <h2> Model Building</h2> </font>\n",
    "</span>"
   ]
  },
  {
   "attachments": {},
   "cell_type": "markdown",
   "metadata": {},
   "source": [
    "### Imports"
   ]
  },
  {
   "cell_type": "code",
   "execution_count": 4,
   "metadata": {},
   "outputs": [],
   "source": [
    "from Logic import get_top_used_languages_with_counts , get_margins"
   ]
  },
  {
   "attachments": {},
   "cell_type": "markdown",
   "metadata": {},
   "source": [
    "### Getting the most common language and the margins"
   ]
  },
  {
   "cell_type": "code",
   "execution_count": 8,
   "metadata": {},
   "outputs": [
    {
     "data": {
      "image/png": "[encoded data removed]",
      "text/plain": [
       "<Figure size 640x480 with 1 Axes>"
      ]
     },
     "metadata": {},
     "output_type": "display_data"
    },
    {
     "name": "stdout",
     "output_type": "stream",
     "text": [
      "     language  count\n",
      "0  JavaScript  32684\n",
      "1      Python  32295\n",
      "2        Java  14489\n",
      "3         C++  10835\n",
      "4  TypeScript   8335\n",
      "margin between first most used language and second most used language is :  389\n",
      "margin between second most used language and third most used language is :  17806\n"
     ]
    }
   ],
   "source": [
    "### Model building code goes her\n",
    "top_used_languages = get_top_used_languages_with_counts(data , 5)\n",
    "print(top_used_languages)\n",
    "first_margin , second_margin = get_margins(data)\n",
    "print('margin between first most used language and second most used language is : ' , first_margin)\n",
    "print('margin between second most used language and third most used language is : ' , second_margin)"
   ]
  },
  {
   "attachments": {},
   "cell_type": "markdown",
   "metadata": {},
   "source": [
    "<span style=\"font-family:Avenir;\">\n",
    "\n",
    "<table style=\"width:100%; border-collapse:collapse; table-layout:fixed;\">\n",
    "  <thead>\n",
    "    <tr>\n",
    "      <th style=\"padding:10px; border:0.5px solid grey; text-align: center; width:33.33%;\">\n",
    "      <font color=\"DeepSkyBlue\">Set Expectations</font>\n",
    "      </th>\n",
    "      <th style=\"padding:10px; border:0.5px solid grey; text-align: center; width:33.33%;\">\n",
    "      <font color=\"DeepSkyBlue\">Collect Data</font>\n",
    "      </th>\n",
    "      <th style=\"padding:10px; border:0.5px solid grey; text-align: center; width:33.33%;\">\n",
    "      <font color=\"DeepSkyBlue\">Match Expectations & Data</font>\n",
    "      </th>\n",
    "    </tr>\n",
    "  </thead>\n",
    "  <tbody>\n",
    "    <tr>\n",
    "      <td style=\"padding:10px; border:0.5px solid grey; text-align: center; width:33.33%;\">\n",
    "      The model we be able to get most used language and the margin between it and the next most used language.\n",
    "      </td>\n",
    "      <td style=\"padding:10px; border:0.5px solid grey; text-align: center; width:33.33%;\">\n",
    "      Model got most used language and the margin between it and the next most used language.\n",
    "      </td>\n",
    "      <td style=\"padding:10px; border:0.5px solid grey; text-align: center; width:33.33%;\">\n",
    "      expectations and data match.\n",
    "      </td>\n",
    "    </tr>\n",
    "  </tbody>\n",
    "</table>\n",
    "\n",
    "</span>\n",
    "\n"
   ]
  },
  {
   "attachments": {},
   "cell_type": "markdown",
   "metadata": {},
   "source": [
    "<span style=\"font-family:Avenir;\">\n",
    "<font color=\"LavenderBlush\"> <h2> Results & Interpretation</h2> </font>\n",
    "</span>"
   ]
  },
  {
   "cell_type": "code",
   "execution_count": 11,
   "metadata": {},
   "outputs": [
    {
     "data": {
      "text/markdown": [
       "<h3><font color=\"pink\" size=5>Most common primary languages used in Github repositories and the margins between them</font></h3> <font size=4>\n",
       "<font color=\"pink\">✦</font> The most common primary language used in Github repositories is JavaScript with 32684 repositories using it.<br><br><font color=\"pink\">✦</font> The Second most common primary language used in Github repositories is Python with 32295 repositories using it.<br><br><font color=\"pink\">✦</font> As seen they are almostly equally used with a margin of 389 repositories.<br><br><font color=\"pink\">✦</font> The Third most common primary language used in Github repositories is Java with 14489 repositories using it.<br><br><font color=\"pink\">✦</font> As seen it is used about half as much as the second most used language with a margin of 17806 repositories.<br><br></font>"
      ],
      "text/plain": [
       "<IPython.core.display.Markdown object>"
      ]
     },
     "metadata": {},
     "output_type": "display_data"
    }
   ],
   "source": [
    "convey_insights([\n",
    "    'The most common primary language used in Github repositories is {} with {} repositories using it.'.format(top_used_languages.iloc[0, 0] , top_used_languages.iloc[0, 1]) ,\n",
    "    'The Second most common primary language used in Github repositories is {} with {} repositories using it.'.format(top_used_languages.iloc[1, 0] , top_used_languages.iloc[1, 1]) ,\n",
    "    'As seen they are almostly equally used with a margin of {} repositories.'.format(first_margin) ,\n",
    "    'The Third most common primary language used in Github repositories is {} with {} repositories using it.'.format(top_used_languages.iloc[2, 0] , top_used_languages.iloc[2, 1]) ,\n",
    "    'As seen it is used about half as much as the second most used language with a margin of {} repositories.'.format(second_margin) ,\n",
    "] ,\"Most common primary languages used in Github repositories and the margins between them\")"
   ]
  },
  {
   "attachments": {},
   "cell_type": "markdown",
   "metadata": {},
   "source": [
    "<span style=\"font-family:Avenir;\">\n",
    "\n",
    "<table style=\"width:100%; border-collapse:collapse; table-layout:fixed;\">\n",
    "  <thead>\n",
    "    <tr>\n",
    "      <th style=\"padding:10px; border:0.5px solid grey; text-align: center; width:33.33%;\">\n",
    "      <font color=\"DeepSkyBlue\">Set Expectations</font>\n",
    "      </th>\n",
    "      <th style=\"padding:10px; border:0.5px solid grey; text-align: center; width:33.33%;\">\n",
    "      <font color=\"DeepSkyBlue\">Collect Data</font>\n",
    "      </th>\n",
    "      <th style=\"padding:10px; border:0.5px solid grey; text-align: center; width:33.33%;\">\n",
    "      <font color=\"DeepSkyBlue\">Match Expectations & Data</font>\n",
    "      </th>\n",
    "    </tr>\n",
    "  </thead>\n",
    "  <tbody>\n",
    "    <tr>\n",
    "      <td style=\"padding:10px; border:0.5px solid grey; text-align: center; width:33.33%;\">\n",
    "      Python and javascript are the most used languages in github , with large margin between the next language after them.\n",
    "      </td>\n",
    "      <td style=\"padding:10px; border:0.5px solid grey; text-align: center; width:33.33%;\">\n",
    "      results as shown (already found that python and javascript are the most used languages in github , with large margin between the next language after them.)\n",
    "      </td>\n",
    "      <td style=\"padding:10px; border:0.5px solid grey; text-align: center; width:33.33%;\">\n",
    "      expectations and data match.\n",
    "      </td>\n",
    "    </tr>\n",
    "  </tbody>\n",
    "</table>\n",
    "\n",
    "</span>"
   ]
  },
  {
   "attachments": {},
   "cell_type": "markdown",
   "metadata": {},
   "source": [
    "<span style=\"font-family:Avenir;\">\n",
    "<font color=\"LavenderBlush\"> <h2> Communicating Results</h2> </font>\n",
    "</span>"
   ]
  },
  {
   "cell_type": "code",
   "execution_count": 13,
   "metadata": {},
   "outputs": [
    {
     "data": {
      "text/markdown": [
       "<h3><font color=\"pink\" size=5>Insights about the most common primary languages used in Github repositories</font></h3> <font size=4>\n",
       "<font color=\"pink\">✦</font> As Javascript is the most important language for web development, it is the most used language in Github repositories.<br><br><font color=\"pink\">✦</font> As python is used for many purposes such data science, machine learning and more, it is the second most used language in Github repositories.<br><br><font color=\"pink\">✦</font> The margin between python and javascript is very small it is only 389 repositories<br><br><font color=\"pink\">✦</font> But the margin to the third most used language is very large, it is 17806 repositories<br><br></font>"
      ],
      "text/plain": [
       "<IPython.core.display.Markdown object>"
      ]
     },
     "metadata": {},
     "output_type": "display_data"
    }
   ],
   "source": [
    "convey_insights([\n",
    "    'As Javascript is the most important language for web development, it is the most used language in Github repositories.' ,\n",
    "    'As python is used for many purposes such data science, machine learning and more, it is the second most used language in Github repositories.' ,\n",
    "    'The margin between python and javascript is very small it is only {} repositories'.format(first_margin),\n",
    "    'But the margin to the third most used language is very large, it is {} repositories'.format(second_margin),\n",
    "] , 'Insights about the most common primary languages used in Github repositories') \n"
   ]
  },
  {
   "attachments": {},
   "cell_type": "markdown",
   "metadata": {},
   "source": [
    "<span style=\"font-family:Avenir;\">\n",
    "\n",
    "<table style=\"width:100%; border-collapse:collapse; table-layout:fixed;\">\n",
    "  <thead>\n",
    "    <tr>\n",
    "      <th style=\"padding:10px; border:0.5px solid grey; text-align: center; width:33.33%;\">\n",
    "      <font color=\"DeepSkyBlue\">Set Expectations</font>\n",
    "      </th>\n",
    "      <th style=\"padding:10px; border:0.5px solid grey; text-align: center; width:33.33%;\">\n",
    "      <font color=\"DeepSkyBlue\">Collect Data</font>\n",
    "      </th>\n",
    "      <th style=\"padding:10px; border:0.5px solid grey; text-align: center; width:33.33%;\">\n",
    "      <font color=\"DeepSkyBlue\">Match Expectations & Data</font>\n",
    "      </th>\n",
    "    </tr>\n",
    "  </thead>\n",
    "  <tbody>\n",
    "    <tr>\n",
    "      <td style=\"padding:10px; border:0.5px solid grey; text-align: center; width:33.33%;\">\n",
    "      The professor will be interested in knowing these results.\n",
    "      </td>\n",
    "      <td style=\"padding:10px; border:0.5px solid grey; text-align: center; width:33.33%;\">\n",
    "      As printed above.\n",
    "      </td>\n",
    "      <td style=\"padding:10px; border:0.5px solid grey; text-align: center; width:33.33%;\">\n",
    "      Will be known after the presentation.\n",
    "      </td>\n",
    "    </tr>\n",
    "  </tbody>\n",
    "</table>\n",
    "\n",
    "</span>\n",
    "\n"
   ]
  }
 ],
 "metadata": {
  "kernelspec": {
   "display_name": "Python 3",
   "language": "python",
   "name": "python3"
  },
  "language_info": {
   "codemirror_mode": {
    "name": "ipython",
    "version": 3
   },
   "file_extension": ".py",
   "mimetype": "text/x-python",
   "name": "python",
   "nbconvert_exporter": "python",
   "pygments_lexer": "ipython3",
   "version": "3.9.7"
  },
  "orig_nbformat": 4
 },
 "nbformat": 4,
 "nbformat_minor": 2
}
