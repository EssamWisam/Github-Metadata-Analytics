{
 "cells": [
  {
   "attachments": {},
   "cell_type": "markdown",
   "metadata": {},
   "source": [
    "<span style=\"font-family:Avenir;\">\n",
    "<font color=\"yellow\"> <h1> Language </font> Commonality </h1> \n",
    "</span>"
   ]
  },
  {
   "attachments": {},
   "cell_type": "markdown",
   "metadata": {},
   "source": [
    "<span style=\"font-family:Avenir;\">\n",
    "<font color=\"LavenderBlush\"> <h2> Stating Questions </h2> </font>\n",
    "</span>\n",
    "\n"
   ]
  },
  {
   "attachments": {},
   "cell_type": "markdown",
   "metadata": {},
   "source": [
    "<span style=\"font-family:Avenir; font-size:1.4em;\">\n",
    "✦ <font color=\"Cyan\"> What </font> is the <font color=\"Pink\"> distribution </font> of the  <font color=\"Cyan\"> most common </font>  <font color=\"Pink\"> primary language </font> over <font color=\"Pink\">time</font>?\n",
    "\n",
    "✦ What is the <font color=\"Pink\">distribution</font> of the  <font color=\"Cyan\"> underlying margin</font> compared to the <font color=\"Pink\">next most frequent</font> <font color=\"Cyan\">programming language</font>?\n",
    "</span>"
   ]
  },
  {
   "attachments": {},
   "cell_type": "markdown",
   "metadata": {},
   "source": [
    "<span style=\"font-family:Avenir;\">\n",
    "\n",
    "<table style=\"width:100%; border-collapse:collapse; table-layout:fixed;\">\n",
    "  <thead>\n",
    "    <tr>\n",
    "      <th style=\"padding:10px; border:0.5px solid grey; text-align: center; width:33.33%;\">\n",
    "      <font color=\"DeepSkyBlue\">Set Expectations</font>\n",
    "      </th>\n",
    "      <th style=\"padding:10px; border:0.5px solid grey; text-align: center; width:33.33%;\">\n",
    "      <font color=\"DeepSkyBlue\">Collect Data</font>\n",
    "      </th>\n",
    "      <th style=\"padding:10px; border:0.5px solid grey; text-align: center; width:33.33%;\">\n",
    "      <font color=\"DeepSkyBlue\">Match Expectations & Data</font>\n",
    "      </th>\n",
    "    </tr>\n",
    "  </thead>\n",
    "  <tbody>\n",
    "    <tr>\n",
    "      <td style=\"padding:10px; border:0.5px solid grey; text-align: center; width:33.33%;\">\n",
    "      Its as expected\n",
    "      </td>\n",
    "      <td style=\"padding:10px; border:0.5px solid grey; text-align: center; width:33.33%;\">\n",
    "      This is my data\n",
    "      </td>\n",
    "      <td style=\"padding:10px; border:0.5px solid grey; text-align: center; width:33.33%;\">\n",
    "      Suppose data is expectations; done.\n",
    "      </td>\n",
    "    </tr>\n",
    "  </tbody>\n",
    "</table>\n",
    "\n",
    "</span>\n",
    "\n"
   ]
  },
  {
   "attachments": {},
   "cell_type": "markdown",
   "metadata": {},
   "source": [
    "<span style=\"font-family:Avenir;\">\n",
    "<font color=\"LavenderBlush\"> <h2> Exploratory Data Analytics</h2> </font>\n",
    "</span>"
   ]
  },
  {
   "cell_type": "code",
   "execution_count": null,
   "metadata": {},
   "outputs": [],
   "source": [
    "### EDA code goes here"
   ]
  },
  {
   "cell_type": "markdown",
   "metadata": {},
   "source": [
    "<span style=\"font-family:Avenir;\">\n",
    "\n",
    "<table style=\"width:100%; border-collapse:collapse; table-layout:fixed;\">\n",
    "  <thead>\n",
    "    <tr>\n",
    "      <th style=\"padding:10px; border:0.5px solid grey; text-align: center; width:33.33%;\">\n",
    "      <font color=\"DeepSkyBlue\">Set Expectations</font>\n",
    "      </th>\n",
    "      <th style=\"padding:10px; border:0.5px solid grey; text-align: center; width:33.33%;\">\n",
    "      <font color=\"DeepSkyBlue\">Collect Data</font>\n",
    "      </th>\n",
    "      <th style=\"padding:10px; border:0.5px solid grey; text-align: center; width:33.33%;\">\n",
    "      <font color=\"DeepSkyBlue\">Match Expectations & Data</font>\n",
    "      </th>\n",
    "    </tr>\n",
    "  </thead>\n",
    "  <tbody>\n",
    "    <tr>\n",
    "      <td style=\"padding:10px; border:0.5px solid grey; text-align: center; width:33.33%;\">\n",
    "      Its as expected\n",
    "      </td>\n",
    "      <td style=\"padding:10px; border:0.5px solid grey; text-align: center; width:33.33%;\">\n",
    "      This is my data\n",
    "      </td>\n",
    "      <td style=\"padding:10px; border:0.5px solid grey; text-align: center; width:33.33%;\">\n",
    "      Suppose data is expectations; done.\n",
    "      </td>\n",
    "    </tr>\n",
    "  </tbody>\n",
    "</table>\n",
    "\n",
    "</span>\n",
    "\n"
   ]
  },
  {
   "attachments": {},
   "cell_type": "markdown",
   "metadata": {},
   "source": [
    "<span style=\"font-family:Avenir;\">\n",
    "<font color=\"LavenderBlush\"> <h2> Model Building</h2> </font>\n",
    "</span>"
   ]
  },
  {
   "cell_type": "code",
   "execution_count": null,
   "metadata": {},
   "outputs": [],
   "source": [
    "### Model building code goes her"
   ]
  },
  {
   "cell_type": "markdown",
   "metadata": {},
   "source": [
    "<span style=\"font-family:Avenir;\">\n",
    "\n",
    "<table style=\"width:100%; border-collapse:collapse; table-layout:fixed;\">\n",
    "  <thead>\n",
    "    <tr>\n",
    "      <th style=\"padding:10px; border:0.5px solid grey; text-align: center; width:33.33%;\">\n",
    "      <font color=\"DeepSkyBlue\">Set Expectations</font>\n",
    "      </th>\n",
    "      <th style=\"padding:10px; border:0.5px solid grey; text-align: center; width:33.33%;\">\n",
    "      <font color=\"DeepSkyBlue\">Collect Data</font>\n",
    "      </th>\n",
    "      <th style=\"padding:10px; border:0.5px solid grey; text-align: center; width:33.33%;\">\n",
    "      <font color=\"DeepSkyBlue\">Match Expectations & Data</font>\n",
    "      </th>\n",
    "    </tr>\n",
    "  </thead>\n",
    "  <tbody>\n",
    "    <tr>\n",
    "      <td style=\"padding:10px; border:0.5px solid grey; text-align: center; width:33.33%;\">\n",
    "      Its as expected\n",
    "      </td>\n",
    "      <td style=\"padding:10px; border:0.5px solid grey; text-align: center; width:33.33%;\">\n",
    "      This is my data\n",
    "      </td>\n",
    "      <td style=\"padding:10px; border:0.5px solid grey; text-align: center; width:33.33%;\">\n",
    "      Suppose data is expectations; done.\n",
    "      </td>\n",
    "    </tr>\n",
    "  </tbody>\n",
    "</table>\n",
    "\n",
    "</span>\n",
    "\n"
   ]
  },
  {
   "attachments": {},
   "cell_type": "markdown",
   "metadata": {},
   "source": [
    "<span style=\"font-family:Avenir;\">\n",
    "<font color=\"LavenderBlush\"> <h2> Results & Interpretation</h2> </font>\n",
    "</span>"
   ]
  },
  {
   "cell_type": "code",
   "execution_count": null,
   "metadata": {},
   "outputs": [],
   "source": [
    "### Probably code that will generate markdown"
   ]
  },
  {
   "cell_type": "markdown",
   "metadata": {},
   "source": [
    "<span style=\"font-family:Avenir;\">\n",
    "\n",
    "<table style=\"width:100%; border-collapse:collapse; table-layout:fixed;\">\n",
    "  <thead>\n",
    "    <tr>\n",
    "      <th style=\"padding:10px; border:0.5px solid grey; text-align: center; width:33.33%;\">\n",
    "      <font color=\"DeepSkyBlue\">Set Expectations</font>\n",
    "      </th>\n",
    "      <th style=\"padding:10px; border:0.5px solid grey; text-align: center; width:33.33%;\">\n",
    "      <font color=\"DeepSkyBlue\">Collect Data</font>\n",
    "      </th>\n",
    "      <th style=\"padding:10px; border:0.5px solid grey; text-align: center; width:33.33%;\">\n",
    "      <font color=\"DeepSkyBlue\">Match Expectations & Data</font>\n",
    "      </th>\n",
    "    </tr>\n",
    "  </thead>\n",
    "  <tbody>\n",
    "    <tr>\n",
    "      <td style=\"padding:10px; border:0.5px solid grey; text-align: center; width:33.33%;\">\n",
    "      Its as expected\n",
    "      </td>\n",
    "      <td style=\"padding:10px; border:0.5px solid grey; text-align: center; width:33.33%;\">\n",
    "      This is my data\n",
    "      </td>\n",
    "      <td style=\"padding:10px; border:0.5px solid grey; text-align: center; width:33.33%;\">\n",
    "      Suppose data is expectations; done.\n",
    "      </td>\n",
    "    </tr>\n",
    "  </tbody>\n",
    "</table>\n",
    "\n",
    "</span>\n",
    "\n"
   ]
  },
  {
   "attachments": {},
   "cell_type": "markdown",
   "metadata": {},
   "source": [
    "<span style=\"font-family:Avenir;\">\n",
    "<font color=\"LavenderBlush\"> <h2> Communicating Results</h2> </font>\n",
    "</span>"
   ]
  },
  {
   "cell_type": "code",
   "execution_count": null,
   "metadata": {},
   "outputs": [],
   "source": [
    "### Probably code that will generate markdown"
   ]
  },
  {
   "cell_type": "markdown",
   "metadata": {},
   "source": [
    "<span style=\"font-family:Avenir;\">\n",
    "\n",
    "<table style=\"width:100%; border-collapse:collapse; table-layout:fixed;\">\n",
    "  <thead>\n",
    "    <tr>\n",
    "      <th style=\"padding:10px; border:0.5px solid grey; text-align: center; width:33.33%;\">\n",
    "      <font color=\"DeepSkyBlue\">Set Expectations</font>\n",
    "      </th>\n",
    "      <th style=\"padding:10px; border:0.5px solid grey; text-align: center; width:33.33%;\">\n",
    "      <font color=\"DeepSkyBlue\">Collect Data</font>\n",
    "      </th>\n",
    "      <th style=\"padding:10px; border:0.5px solid grey; text-align: center; width:33.33%;\">\n",
    "      <font color=\"DeepSkyBlue\">Match Expectations & Data</font>\n",
    "      </th>\n",
    "    </tr>\n",
    "  </thead>\n",
    "  <tbody>\n",
    "    <tr>\n",
    "      <td style=\"padding:10px; border:0.5px solid grey; text-align: center; width:33.33%;\">\n",
    "      Its as expected\n",
    "      </td>\n",
    "      <td style=\"padding:10px; border:0.5px solid grey; text-align: center; width:33.33%;\">\n",
    "      This is my data\n",
    "      </td>\n",
    "      <td style=\"padding:10px; border:0.5px solid grey; text-align: center; width:33.33%;\">\n",
    "      Suppose data is expectations; done.\n",
    "      </td>\n",
    "    </tr>\n",
    "  </tbody>\n",
    "</table>\n",
    "\n",
    "</span>\n",
    "\n"
   ]
  }
 ],
 "metadata": {
  "language_info": {
   "name": "python"
  },
  "orig_nbformat": 4
 },
 "nbformat": 4,
 "nbformat_minor": 2
}
