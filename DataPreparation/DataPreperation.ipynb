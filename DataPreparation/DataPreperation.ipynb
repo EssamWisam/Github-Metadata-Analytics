{
 "cells": [
  {
   "cell_type": "code",
   "execution_count": 50,
   "metadata": {},
   "outputs": [],
   "source": [
    "from Preprocess import read_data,  get_date_features, impute_outliers\n",
    "from Visualize import basic_info, features_info, plot_feature_histograms, plot_violin_plots,\\\n",
    "    visualize_continuous_data, convey_insights, correlation_matrix"
   ]
  },
  {
   "attachments": {},
   "cell_type": "markdown",
   "metadata": {},
   "source": [
    "## <font color=\"AliceBlue\">Exhibition:</font> Generic Data Exploration"
   ]
  },
  {
   "attachments": {},
   "cell_type": "markdown",
   "metadata": {},
   "source": [
    "### Small Sample"
   ]
  },
  {
   "cell_type": "code",
   "execution_count": 51,
   "metadata": {},
   "outputs": [
    {
     "data": {
      "text/html": [
       "<div>\n",
       "<style scoped>\n",
       "    .dataframe tbody tr th:only-of-type {\n",
       "        vertical-align: middle;\n",
       "    }\n",
       "\n",
       "    .dataframe tbody tr th {\n",
       "        vertical-align: top;\n",
       "    }\n",
       "\n",
       "    .dataframe thead th {\n",
       "        text-align: right;\n",
       "    }\n",
       "</style>\n",
       "<table border=\"1\" class=\"dataframe\">\n",
       "  <thead>\n",
       "    <tr style=\"text-align: right;\">\n",
       "      <th></th>\n",
       "      <th>stars</th>\n",
       "      <th>forks</th>\n",
       "      <th>watchers</th>\n",
       "      <th>isArchived</th>\n",
       "      <th>diskUsageKb</th>\n",
       "      <th>pullRequests</th>\n",
       "      <th>primaryLanguage</th>\n",
       "      <th>createdAt</th>\n",
       "      <th>defaultBranchCommitCount</th>\n",
       "      <th>license</th>\n",
       "      <th>assignableUserCount</th>\n",
       "      <th>codeOfConduct</th>\n",
       "      <th>languagesUsed</th>\n",
       "      <th>languagesSizes</th>\n",
       "    </tr>\n",
       "  </thead>\n",
       "  <tbody>\n",
       "    <tr>\n",
       "      <th>0</th>\n",
       "      <td>18</td>\n",
       "      <td>46</td>\n",
       "      <td>25</td>\n",
       "      <td>0</td>\n",
       "      <td>354726</td>\n",
       "      <td>810</td>\n",
       "      <td>JavaScript</td>\n",
       "      <td>2019-08-27 00:31:27+00:00</td>\n",
       "      <td>3404.0</td>\n",
       "      <td>MIT License</td>\n",
       "      <td>94</td>\n",
       "      <td>-1</td>\n",
       "      <td>JavaScript, HTML, CSS, Ruby, Shell</td>\n",
       "      <td>440575, 440476, 137861, 11340, 878</td>\n",
       "    </tr>\n",
       "    <tr>\n",
       "      <th>1</th>\n",
       "      <td>5</td>\n",
       "      <td>4</td>\n",
       "      <td>2</td>\n",
       "      <td>0</td>\n",
       "      <td>3016</td>\n",
       "      <td>0</td>\n",
       "      <td>C</td>\n",
       "      <td>2011-04-28 15:28:49+00:00</td>\n",
       "      <td>170.0</td>\n",
       "      <td>Other</td>\n",
       "      <td>1</td>\n",
       "      <td>-1</td>\n",
       "      <td>C, CoffeeScript, JavaScript, Python, Ruby</td>\n",
       "      <td>1639525, 19776, 10833, 8042, 128</td>\n",
       "    </tr>\n",
       "    <tr>\n",
       "      <th>2</th>\n",
       "      <td>33</td>\n",
       "      <td>3</td>\n",
       "      <td>1</td>\n",
       "      <td>1</td>\n",
       "      <td>3238</td>\n",
       "      <td>20</td>\n",
       "      <td>JavaScript</td>\n",
       "      <td>2020-01-16 11:07:25+00:00</td>\n",
       "      <td>153.0</td>\n",
       "      <td>GNU General Public License v3.0</td>\n",
       "      <td>1</td>\n",
       "      <td>-1</td>\n",
       "      <td>JavaScript</td>\n",
       "      <td>84201</td>\n",
       "    </tr>\n",
       "    <tr>\n",
       "      <th>3</th>\n",
       "      <td>9</td>\n",
       "      <td>6</td>\n",
       "      <td>2</td>\n",
       "      <td>0</td>\n",
       "      <td>628</td>\n",
       "      <td>2</td>\n",
       "      <td>C#</td>\n",
       "      <td>2014-06-23 14:26:21+00:00</td>\n",
       "      <td>4.0</td>\n",
       "      <td>Microsoft Public License</td>\n",
       "      <td>1</td>\n",
       "      <td>-1</td>\n",
       "      <td>C#, Puppet</td>\n",
       "      <td>17202, 856</td>\n",
       "    </tr>\n",
       "    <tr>\n",
       "      <th>4</th>\n",
       "      <td>14</td>\n",
       "      <td>4</td>\n",
       "      <td>2</td>\n",
       "      <td>0</td>\n",
       "      <td>7607</td>\n",
       "      <td>2</td>\n",
       "      <td>Python</td>\n",
       "      <td>2018-07-19 03:00:27+00:00</td>\n",
       "      <td>11.0</td>\n",
       "      <td>-1</td>\n",
       "      <td>1</td>\n",
       "      <td>-1</td>\n",
       "      <td>Python</td>\n",
       "      <td>29392</td>\n",
       "    </tr>\n",
       "  </tbody>\n",
       "</table>\n",
       "</div>"
      ],
      "text/plain": [
       "   stars  forks  watchers  isArchived  diskUsageKb  pullRequests   \n",
       "0     18     46        25           0       354726           810  \\\n",
       "1      5      4         2           0         3016             0   \n",
       "2     33      3         1           1         3238            20   \n",
       "3      9      6         2           0          628             2   \n",
       "4     14      4         2           0         7607             2   \n",
       "\n",
       "  primaryLanguage                 createdAt  defaultBranchCommitCount   \n",
       "0      JavaScript 2019-08-27 00:31:27+00:00                    3404.0  \\\n",
       "1               C 2011-04-28 15:28:49+00:00                     170.0   \n",
       "2      JavaScript 2020-01-16 11:07:25+00:00                     153.0   \n",
       "3              C# 2014-06-23 14:26:21+00:00                       4.0   \n",
       "4          Python 2018-07-19 03:00:27+00:00                      11.0   \n",
       "\n",
       "                           license  assignableUserCount codeOfConduct   \n",
       "0                      MIT License                   94            -1  \\\n",
       "1                            Other                    1            -1   \n",
       "2  GNU General Public License v3.0                    1            -1   \n",
       "3         Microsoft Public License                    1            -1   \n",
       "4                               -1                    1            -1   \n",
       "\n",
       "                               languagesUsed   \n",
       "0         JavaScript, HTML, CSS, Ruby, Shell  \\\n",
       "1  C, CoffeeScript, JavaScript, Python, Ruby   \n",
       "2                                 JavaScript   \n",
       "3                                 C#, Puppet   \n",
       "4                                     Python   \n",
       "\n",
       "                       languagesSizes  \n",
       "0  440575, 440476, 137861, 11340, 878  \n",
       "1    1639525, 19776, 10833, 8042, 128  \n",
       "2                               84201  \n",
       "3                          17202, 856  \n",
       "4                               29392  "
      ]
     },
     "execution_count": 51,
     "metadata": {},
     "output_type": "execute_result"
    }
   ],
   "source": [
    "x_data_d, _ = read_data(kind=\"all\", fix=True)\n",
    "x_data_d.head(5)"
   ]
  },
  {
   "attachments": {},
   "cell_type": "markdown",
   "metadata": {},
   "source": [
    "### Basic Info"
   ]
  },
  {
   "cell_type": "code",
   "execution_count": 52,
   "metadata": {},
   "outputs": [
    {
     "data": {
      "text/html": [
       "<h2 style=\"text-align:left;\">Basic Counts</h2><table style=\"width:50%; border-collapse: collapse; font-size: 16px; text-align:center; padding: 10px; border: 1px solid #fff;\"><tr><td style=\"border: 1px solid #fff; text-align:center; padding: 10px; color: white; border-right: 1px solid #fff;\">Number of samples</td><td style=\"border: 1px solid #fff; text-align:center; padding: 10px; color: white; border-right: 1px solid #fff;\">Number of features</td></tr><tr><td style=\"border: 1px solid #fff; text-align:center; padding: 10px; color: white; opacity: 0.8; border-left: 1px solid #fff;\">210001</td><td style=\"border: 1px solid #fff; text-align:center; padding: 10px; color: white; opacity: 0.8; border-left: 1px solid #fff;\">14</td></tr>"
      ],
      "text/plain": [
       "<IPython.core.display.HTML object>"
      ]
     },
     "metadata": {},
     "output_type": "display_data"
    }
   ],
   "source": [
    "basic_info(x_data_d)"
   ]
  },
  {
   "attachments": {},
   "cell_type": "markdown",
   "metadata": {},
   "source": [
    "### Variables Info"
   ]
  },
  {
   "cell_type": "code",
   "execution_count": 53,
   "metadata": {},
   "outputs": [
    {
     "data": {
      "text/html": [
       "<h2 style=\"text-align:left;\">Features Types, Uniques Count, Missing Ratio, Outlier Ratio</h2><table style=\"width:50%; border-collapse: collapse; font-size: 16px; text-align:center; padding: 10px; border: 1px solid #fff;\"><tr><td style=\"border: 1px solid #fff; text-align:center; padding: 10px; color: white; border-right: 1px solid #fff;\">stars</td><td style=\"border: 1px solid #fff; text-align:center; padding: 10px; color: white; border-right: 1px solid #fff;\">forks</td><td style=\"border: 1px solid #fff; text-align:center; padding: 10px; color: white; border-right: 1px solid #fff;\">watchers</td><td style=\"border: 1px solid #fff; text-align:center; padding: 10px; color: white; border-right: 1px solid #fff;\">isArchived</td><td style=\"border: 1px solid #fff; text-align:center; padding: 10px; color: white; border-right: 1px solid #fff;\">diskUsageKb</td><td style=\"border: 1px solid #fff; text-align:center; padding: 10px; color: white; border-right: 1px solid #fff;\">pullRequests</td><td style=\"border: 1px solid #fff; text-align:center; padding: 10px; color: white; border-right: 1px solid #fff;\">primaryLanguage</td><td style=\"border: 1px solid #fff; text-align:center; padding: 10px; color: white; border-right: 1px solid #fff;\">createdAt</td><td style=\"border: 1px solid #fff; text-align:center; padding: 10px; color: white; border-right: 1px solid #fff;\">defaultBranchCommitCount</td><td style=\"border: 1px solid #fff; text-align:center; padding: 10px; color: white; border-right: 1px solid #fff;\">license</td><td style=\"border: 1px solid #fff; text-align:center; padding: 10px; color: white; border-right: 1px solid #fff;\">assignableUserCount</td><td style=\"border: 1px solid #fff; text-align:center; padding: 10px; color: white; border-right: 1px solid #fff;\">codeOfConduct</td><td style=\"border: 1px solid #fff; text-align:center; padding: 10px; color: white; border-right: 1px solid #fff;\">languagesUsed</td><td style=\"border: 1px solid #fff; text-align:center; padding: 10px; color: white; border-right: 1px solid #fff;\">languagesSizes</td></tr><tr><td style=\"border: 1px solid #fff; text-align:center; padding: 10px; color: white; opacity: 0.8; border-left: 1px solid #fff;\">Numerical</td><td style=\"border: 1px solid #fff; text-align:center; padding: 10px; color: white; opacity: 0.8; border-left: 1px solid #fff;\">Numerical</td><td style=\"border: 1px solid #fff; text-align:center; padding: 10px; color: white; opacity: 0.8; border-left: 1px solid #fff;\">Numerical</td><td style=\"border: 1px solid #fff; text-align:center; padding: 10px; color: white; opacity: 0.8; border-left: 1px solid #fff;\">Binary</td><td style=\"border: 1px solid #fff; text-align:center; padding: 10px; color: white; opacity: 0.8; border-left: 1px solid #fff;\">Numerical</td><td style=\"border: 1px solid #fff; text-align:center; padding: 10px; color: white; opacity: 0.8; border-left: 1px solid #fff;\">Numerical</td><td style=\"border: 1px solid #fff; text-align:center; padding: 10px; color: white; opacity: 0.8; border-left: 1px solid #fff;\">Categorical</td><td style=\"border: 1px solid #fff; text-align:center; padding: 10px; color: white; opacity: 0.8; border-left: 1px solid #fff;\">Date</td><td style=\"border: 1px solid #fff; text-align:center; padding: 10px; color: white; opacity: 0.8; border-left: 1px solid #fff;\">Numerical</td><td style=\"border: 1px solid #fff; text-align:center; padding: 10px; color: white; opacity: 0.8; border-left: 1px solid #fff;\">Categorical</td><td style=\"border: 1px solid #fff; text-align:center; padding: 10px; color: white; opacity: 0.8; border-left: 1px solid #fff;\">Numerical</td><td style=\"border: 1px solid #fff; text-align:center; padding: 10px; color: white; opacity: 0.8; border-left: 1px solid #fff;\">Categorical</td><td style=\"border: 1px solid #fff; text-align:center; padding: 10px; color: white; opacity: 0.8; border-left: 1px solid #fff;\">Composite</td><td style=\"border: 1px solid #fff; text-align:center; padding: 10px; color: white; opacity: 0.8; border-left: 1px solid #fff;\">Composite</td></tr><tr><td style=\"border: 1px solid #fff; text-align:center; padding: 10px; color: white; opacity: 0.8; border-left: 1px solid #fff;\">2033</td><td style=\"border: 1px solid #fff; text-align:center; padding: 10px; color: white; opacity: 0.8; border-left: 1px solid #fff;\">1156</td><td style=\"border: 1px solid #fff; text-align:center; padding: 10px; color: white; opacity: 0.8; border-left: 1px solid #fff;\">479</td><td style=\"border: 1px solid #fff; text-align:center; padding: 10px; color: white; opacity: 0.8; border-left: 1px solid #fff;\">2</td><td style=\"border: 1px solid #fff; text-align:center; padding: 10px; color: white; opacity: 0.8; border-left: 1px solid #fff;\">39921</td><td style=\"border: 1px solid #fff; text-align:center; padding: 10px; color: white; opacity: 0.8; border-left: 1px solid #fff;\">1452</td><td style=\"border: 1px solid #fff; text-align:center; padding: 10px; color: white; opacity: 0.8; border-left: 1px solid #fff;\">377</td><td style=\"border: 1px solid #fff; text-align:center; padding: 10px; color: white; opacity: 0.8; border-left: 1px solid #fff;\">209558</td><td style=\"border: 1px solid #fff; text-align:center; padding: 10px; color: white; opacity: 0.8; border-left: 1px solid #fff;\">4415</td><td style=\"border: 1px solid #fff; text-align:center; padding: 10px; color: white; opacity: 0.8; border-left: 1px solid #fff;\">44</td><td style=\"border: 1px solid #fff; text-align:center; padding: 10px; color: white; opacity: 0.8; border-left: 1px solid #fff;\">783</td><td style=\"border: 1px solid #fff; text-align:center; padding: 10px; color: white; opacity: 0.8; border-left: 1px solid #fff;\">7</td><td style=\"border: 1px solid #fff; text-align:center; padding: 10px; color: white; opacity: 0.8; border-left: 1px solid #fff;\">37808</td><td style=\"border: 1px solid #fff; text-align:center; padding: 10px; color: white; opacity: 0.8; border-left: 1px solid #fff;\">164696</td></tr><tr><td style=\"border: 1px solid #fff; text-align:center; padding: 10px; color: white; opacity: 0.8; border-left: 1px solid #fff;\">0.0%</td><td style=\"border: 1px solid #fff; text-align:center; padding: 10px; color: white; opacity: 0.8; border-left: 1px solid #fff;\">0.0%</td><td style=\"border: 1px solid #fff; text-align:center; padding: 10px; color: white; opacity: 0.8; border-left: 1px solid #fff;\">0.0%</td><td style=\"border: 1px solid #fff; text-align:center; padding: 10px; color: white; opacity: 0.8; border-left: 1px solid #fff;\">0.0%</td><td style=\"border: 1px solid #fff; text-align:center; padding: 10px; color: white; opacity: 0.8; border-left: 1px solid #fff;\">0.0%</td><td style=\"border: 1px solid #fff; text-align:center; padding: 10px; color: white; opacity: 0.8; border-left: 1px solid #fff;\">0.0%</td><td style=\"border: 1px solid #fff; text-align:center; padding: 10px; color: white; opacity: 0.8; border-left: 1px solid #fff;\">8.0%</td><td style=\"border: 1px solid #fff; text-align:center; padding: 10px; color: white; opacity: 0.8; border-left: 1px solid #fff;\">0.0%</td><td style=\"border: 1px solid #fff; text-align:center; padding: 10px; color: white; opacity: 0.8; border-left: 1px solid #fff;\">0.0%</td><td style=\"border: 1px solid #fff; text-align:center; padding: 10px; color: white; opacity: 0.8; border-left: 1px solid #fff;\">47.0%</td><td style=\"border: 1px solid #fff; text-align:center; padding: 10px; color: white; opacity: 0.8; border-left: 1px solid #fff;\">0.0%</td><td style=\"border: 1px solid #fff; text-align:center; padding: 10px; color: white; opacity: 0.8; border-left: 1px solid #fff;\">96.0%</td><td style=\"border: 1px solid #fff; text-align:center; padding: 10px; color: white; opacity: 0.8; border-left: 1px solid #fff;\">0.0%</td><td style=\"border: 1px solid #fff; text-align:center; padding: 10px; color: white; opacity: 0.8; border-left: 1px solid #fff;\">0.0%</td></tr><tr><td style=\"border: 1px solid #fff; text-align:center; padding: 10px; color: white; opacity: 0.8; border-left: 1px solid #fff;\">9.45%</td><td style=\"border: 1px solid #fff; text-align:center; padding: 10px; color: white; opacity: 0.8; border-left: 1px solid #fff;\">7.32%</td><td style=\"border: 1px solid #fff; text-align:center; padding: 10px; color: white; opacity: 0.8; border-left: 1px solid #fff;\">6.19%</td><td style=\"border: 1px solid #fff; text-align:center; padding: 10px; color: white; opacity: 0.8; border-left: 1px solid #fff;\">4.97%</td><td style=\"border: 1px solid #fff; text-align:center; padding: 10px; color: white; opacity: 0.8; border-left: 1px solid #fff;\">13.19%</td><td style=\"border: 1px solid #fff; text-align:center; padding: 10px; color: white; opacity: 0.8; border-left: 1px solid #fff;\">11.45%</td><td style=\"border: 1px solid #fff; text-align:center; padding: 10px; color: white; opacity: 0.8; border-left: 1px solid #fff;\">0%</td><td style=\"border: 1px solid #fff; text-align:center; padding: 10px; color: white; opacity: 0.8; border-left: 1px solid #fff;\">0.0%</td><td style=\"border: 1px solid #fff; text-align:center; padding: 10px; color: white; opacity: 0.8; border-left: 1px solid #fff;\">8.77%</td><td style=\"border: 1px solid #fff; text-align:center; padding: 10px; color: white; opacity: 0.8; border-left: 1px solid #fff;\">0%</td><td style=\"border: 1px solid #fff; text-align:center; padding: 10px; color: white; opacity: 0.8; border-left: 1px solid #fff;\">15.36%</td><td style=\"border: 1px solid #fff; text-align:center; padding: 10px; color: white; opacity: 0.8; border-left: 1px solid #fff;\">0%</td><td style=\"border: 1px solid #fff; text-align:center; padding: 10px; color: white; opacity: 0.8; border-left: 1px solid #fff;\">0%</td><td style=\"border: 1px solid #fff; text-align:center; padding: 10px; color: white; opacity: 0.8; border-left: 1px solid #fff;\">0%</td></tr>"
      ],
      "text/plain": [
       "<IPython.core.display.HTML object>"
      ]
     },
     "metadata": {},
     "output_type": "display_data"
    }
   ],
   "source": [
    "features_info(x_data_d)"
   ]
  },
  {
   "attachments": {},
   "cell_type": "markdown",
   "metadata": {},
   "source": [
    "### Numerical Variables Statistics"
   ]
  },
  {
   "cell_type": "code",
   "execution_count": 54,
   "metadata": {},
   "outputs": [
    {
     "data": {
      "text/markdown": [
       "<h3><font color=\"pink\" size=5>Insights</font></h3> <font size=4>\n",
       "<font color=\"pink\">✦</font> Most max values are far beyond the mean and median which signals outliers<br><br><font color=\"pink\">✦</font> 50% of repos have 12 stars or less, 4 forks or less, 3 watchers or less, 1 pull request or less, 27 commits or less<br><br><font color=\"pink\">✦</font> Compared to other features, stars vary more widely from repo to repo, followed by pull requests and forks<br><br><font color=\"pink\">✦</font> The maximum stars figure is realistic and forks can realistic given that clones trigger them<br><br></font>"
      ],
      "text/plain": [
       "<IPython.core.display.Markdown object>"
      ]
     },
     "metadata": {},
     "output_type": "display_data"
    },
    {
     "data": {
      "text/html": [
       "<div>\n",
       "<style scoped>\n",
       "    .dataframe tbody tr th:only-of-type {\n",
       "        vertical-align: middle;\n",
       "    }\n",
       "\n",
       "    .dataframe tbody tr th {\n",
       "        vertical-align: top;\n",
       "    }\n",
       "\n",
       "    .dataframe thead th {\n",
       "        text-align: right;\n",
       "    }\n",
       "</style>\n",
       "<table border=\"1\" class=\"dataframe\">\n",
       "  <thead>\n",
       "    <tr style=\"text-align: right;\">\n",
       "      <th></th>\n",
       "      <th>stars</th>\n",
       "      <th>forks</th>\n",
       "      <th>watchers</th>\n",
       "      <th>isArchived</th>\n",
       "      <th>diskUsageKb</th>\n",
       "      <th>pullRequests</th>\n",
       "      <th>defaultBranchCommitCount</th>\n",
       "      <th>assignableUserCount</th>\n",
       "    </tr>\n",
       "  </thead>\n",
       "  <tbody>\n",
       "    <tr>\n",
       "      <th>count</th>\n",
       "      <td>210001.000000</td>\n",
       "      <td>210001.000000</td>\n",
       "      <td>210001.000000</td>\n",
       "      <td>210001.000000</td>\n",
       "      <td>2.100010e+05</td>\n",
       "      <td>210001.000000</td>\n",
       "      <td>2.100010e+05</td>\n",
       "      <td>210001.000000</td>\n",
       "    </tr>\n",
       "    <tr>\n",
       "      <th>mean</th>\n",
       "      <td>76.609116</td>\n",
       "      <td>20.538778</td>\n",
       "      <td>7.092533</td>\n",
       "      <td>0.049709</td>\n",
       "      <td>2.467371e+04</td>\n",
       "      <td>24.449574</td>\n",
       "      <td>6.456966e+02</td>\n",
       "      <td>25.973414</td>\n",
       "    </tr>\n",
       "    <tr>\n",
       "      <th>std</th>\n",
       "      <td>1021.238211</td>\n",
       "      <td>206.199368</td>\n",
       "      <td>35.770983</td>\n",
       "      <td>0.217344</td>\n",
       "      <td>2.699473e+05</td>\n",
       "      <td>314.628183</td>\n",
       "      <td>1.767689e+04</td>\n",
       "      <td>366.524446</td>\n",
       "    </tr>\n",
       "    <tr>\n",
       "      <th>min</th>\n",
       "      <td>3.000000</td>\n",
       "      <td>0.000000</td>\n",
       "      <td>0.000000</td>\n",
       "      <td>0.000000</td>\n",
       "      <td>0.000000e+00</td>\n",
       "      <td>0.000000</td>\n",
       "      <td>-1.000000e+00</td>\n",
       "      <td>0.000000</td>\n",
       "    </tr>\n",
       "    <tr>\n",
       "      <th>25%</th>\n",
       "      <td>7.000000</td>\n",
       "      <td>1.000000</td>\n",
       "      <td>2.000000</td>\n",
       "      <td>0.000000</td>\n",
       "      <td>9.600000e+01</td>\n",
       "      <td>0.000000</td>\n",
       "      <td>9.000000e+00</td>\n",
       "      <td>1.000000</td>\n",
       "    </tr>\n",
       "    <tr>\n",
       "      <th>50%</th>\n",
       "      <td>12.000000</td>\n",
       "      <td>4.000000</td>\n",
       "      <td>3.000000</td>\n",
       "      <td>0.000000</td>\n",
       "      <td>5.180000e+02</td>\n",
       "      <td>1.000000</td>\n",
       "      <td>2.700000e+01</td>\n",
       "      <td>1.000000</td>\n",
       "    </tr>\n",
       "    <tr>\n",
       "      <th>75%</th>\n",
       "      <td>30.000000</td>\n",
       "      <td>11.000000</td>\n",
       "      <td>6.000000</td>\n",
       "      <td>0.000000</td>\n",
       "      <td>4.715000e+03</td>\n",
       "      <td>6.000000</td>\n",
       "      <td>8.900000e+01</td>\n",
       "      <td>2.000000</td>\n",
       "    </tr>\n",
       "    <tr>\n",
       "      <th>max</th>\n",
       "      <td>264811.000000</td>\n",
       "      <td>27028.000000</td>\n",
       "      <td>5923.000000</td>\n",
       "      <td>1.000000</td>\n",
       "      <td>4.179653e+07</td>\n",
       "      <td>81258.000000</td>\n",
       "      <td>1.154219e+06</td>\n",
       "      <td>9999.000000</td>\n",
       "    </tr>\n",
       "  </tbody>\n",
       "</table>\n",
       "</div>"
      ],
      "text/plain": [
       "               stars          forks       watchers     isArchived   \n",
       "count  210001.000000  210001.000000  210001.000000  210001.000000  \\\n",
       "mean       76.609116      20.538778       7.092533       0.049709   \n",
       "std      1021.238211     206.199368      35.770983       0.217344   \n",
       "min         3.000000       0.000000       0.000000       0.000000   \n",
       "25%         7.000000       1.000000       2.000000       0.000000   \n",
       "50%        12.000000       4.000000       3.000000       0.000000   \n",
       "75%        30.000000      11.000000       6.000000       0.000000   \n",
       "max    264811.000000   27028.000000    5923.000000       1.000000   \n",
       "\n",
       "        diskUsageKb   pullRequests  defaultBranchCommitCount   \n",
       "count  2.100010e+05  210001.000000              2.100010e+05  \\\n",
       "mean   2.467371e+04      24.449574              6.456966e+02   \n",
       "std    2.699473e+05     314.628183              1.767689e+04   \n",
       "min    0.000000e+00       0.000000             -1.000000e+00   \n",
       "25%    9.600000e+01       0.000000              9.000000e+00   \n",
       "50%    5.180000e+02       1.000000              2.700000e+01   \n",
       "75%    4.715000e+03       6.000000              8.900000e+01   \n",
       "max    4.179653e+07   81258.000000              1.154219e+06   \n",
       "\n",
       "       assignableUserCount  \n",
       "count        210001.000000  \n",
       "mean             25.973414  \n",
       "std             366.524446  \n",
       "min               0.000000  \n",
       "25%               1.000000  \n",
       "50%               1.000000  \n",
       "75%               2.000000  \n",
       "max            9999.000000  "
      ]
     },
     "execution_count": 54,
     "metadata": {},
     "output_type": "execute_result"
    }
   ],
   "source": [
    "convey_insights([\"Most max values are far beyond the mean and median which signals outliers\",\n",
    "                 \"50% of repos have 12 stars or less, 4 forks or less, 3 watchers or less, 1 pull request or less, 27 commits or less\",\n",
    "                 \"Compared to other features, stars vary more widely from repo to repo, followed by pull requests and forks\",\n",
    "                 \"The maximum stars figure is realistic and forks can realistic given that clones trigger them\"\n",
    "                 ])\n",
    "x_data_d.describe()"
   ]
  },
  {
   "attachments": {},
   "cell_type": "markdown",
   "metadata": {},
   "source": [
    "### Variables Histogram"
   ]
  },
  {
   "cell_type": "code",
   "execution_count": 55,
   "metadata": {},
   "outputs": [
    {
     "data": {
      "text/markdown": [
       "<h3><font color=\"pink\" size=5>Insights</font></h3> <font size=4>\n",
       "<font color=\"pink\">✦</font> Outliers seem to have signficantly impacted the plots of many variables<br><br></font>"
      ],
      "text/plain": [
       "<IPython.core.display.Markdown object>"
      ]
     },
     "metadata": {},
     "output_type": "display_data"
    },
    {
     "name": "stderr",
     "output_type": "stream",
     "text": [
      "12it [00:00, 25.52it/s]\n"
     ]
    },
    {
     "data": {
      "image/png": "[encoded data removed]",
      "text/plain": [
       "<Figure size 2000x2000 with 12 Axes>"
      ]
     },
     "metadata": {},
     "output_type": "display_data"
    }
   ],
   "source": [
    "convey_insights([\"Outliers seem to have signficantly impacted the plots of many variables\",])\n",
    "plot_feature_histograms(x_data_d, sample_size=10000)"
   ]
  },
  {
   "attachments": {},
   "cell_type": "markdown",
   "metadata": {},
   "source": [
    "### Handling Outliers"
   ]
  },
  {
   "cell_type": "code",
   "execution_count": 56,
   "metadata": {},
   "outputs": [
    {
     "ename": "TypeError",
     "evalue": "impute_outliers() got an unexpected keyword argument 'imputation_method'",
     "output_type": "error",
     "traceback": [
      "\u001b[0;31m---------------------------------------------------------------------------\u001b[0m",
      "\u001b[0;31mTypeError\u001b[0m                                 Traceback (most recent call last)",
      "Cell \u001b[0;32mIn[56], line 2\u001b[0m\n\u001b[1;32m      1\u001b[0m \u001b[39m#x_data_o = impute_outliers(x_data_d, imputation_method=\"multiple\", n_imputations=1)\u001b[39;00m\n\u001b[0;32m----> 2\u001b[0m x_data_o \u001b[39m=\u001b[39m impute_outliers(x_data_d,imputation_method\u001b[39m=\u001b[39;49m\u001b[39m\"\u001b[39;49m\u001b[39mmedian\u001b[39;49m\u001b[39m\"\u001b[39;49m)\n",
      "\u001b[0;31mTypeError\u001b[0m: impute_outliers() got an unexpected keyword argument 'imputation_method'"
     ]
    }
   ],
   "source": [
    "#x_data_o = impute_outliers(x_data_d, imputation_method=\"multiple\", n_imputations=1)\n",
    "x_data_o = impute_outliers(x_data_d,imputation_method=\"median\")"
   ]
  },
  {
   "attachments": {},
   "cell_type": "markdown",
   "metadata": {},
   "source": [
    "### Numerical Variables Statistics"
   ]
  },
  {
   "cell_type": "code",
   "execution_count": null,
   "metadata": {},
   "outputs": [
    {
     "data": {
      "text/markdown": [
       "<h3><font color=\"pink\" size=5>Insights</font></h3> <font size=4>\n",
       "<font color=\"pink\">✦</font> After imputing the outliers with the median, there are no extreme values and the means/std make more sense<br><br><font color=\"pink\">✦</font> The medians are still unaffected but now forks vary more than pull requests<br><br></font>"
      ],
      "text/plain": [
       "<IPython.core.display.Markdown object>"
      ]
     },
     "metadata": {},
     "output_type": "display_data"
    },
    {
     "data": {
      "text/html": [
       "<div>\n",
       "<style scoped>\n",
       "    .dataframe tbody tr th:only-of-type {\n",
       "        vertical-align: middle;\n",
       "    }\n",
       "\n",
       "    .dataframe tbody tr th {\n",
       "        vertical-align: top;\n",
       "    }\n",
       "\n",
       "    .dataframe thead th {\n",
       "        text-align: right;\n",
       "    }\n",
       "</style>\n",
       "<table border=\"1\" class=\"dataframe\">\n",
       "  <thead>\n",
       "    <tr style=\"text-align: right;\">\n",
       "      <th></th>\n",
       "      <th>stars</th>\n",
       "      <th>forks</th>\n",
       "      <th>watchers</th>\n",
       "      <th>isArchived</th>\n",
       "      <th>diskUsageKb</th>\n",
       "      <th>pullRequests</th>\n",
       "      <th>defaultBranchCommitCount</th>\n",
       "      <th>assignableUserCount</th>\n",
       "    </tr>\n",
       "  </thead>\n",
       "  <tbody>\n",
       "    <tr>\n",
       "      <th>count</th>\n",
       "      <td>210001.000000</td>\n",
       "      <td>210001.000000</td>\n",
       "      <td>2.100010e+05</td>\n",
       "      <td>210001.0</td>\n",
       "      <td>2.100010e+05</td>\n",
       "      <td>210001.000000</td>\n",
       "      <td>210001.000000</td>\n",
       "      <td>210001.000000</td>\n",
       "    </tr>\n",
       "    <tr>\n",
       "      <th>mean</th>\n",
       "      <td>19.727362</td>\n",
       "      <td>6.890753</td>\n",
       "      <td>3.946060e+00</td>\n",
       "      <td>0.0</td>\n",
       "      <td>1.976317e+03</td>\n",
       "      <td>2.853631</td>\n",
       "      <td>51.451576</td>\n",
       "      <td>1.381131</td>\n",
       "    </tr>\n",
       "    <tr>\n",
       "      <th>std</th>\n",
       "      <td>18.897976</td>\n",
       "      <td>8.168901</td>\n",
       "      <td>3.463820e+00</td>\n",
       "      <td>0.0</td>\n",
       "      <td>3.330613e+03</td>\n",
       "      <td>4.711792</td>\n",
       "      <td>63.073766</td>\n",
       "      <td>0.793405</td>\n",
       "    </tr>\n",
       "    <tr>\n",
       "      <th>min</th>\n",
       "      <td>3.000000</td>\n",
       "      <td>0.000000</td>\n",
       "      <td>4.440892e-16</td>\n",
       "      <td>0.0</td>\n",
       "      <td>2.273737e-13</td>\n",
       "      <td>-0.650609</td>\n",
       "      <td>-1.000000</td>\n",
       "      <td>0.000000</td>\n",
       "    </tr>\n",
       "    <tr>\n",
       "      <th>25%</th>\n",
       "      <td>7.000000</td>\n",
       "      <td>1.000000</td>\n",
       "      <td>2.000000e+00</td>\n",
       "      <td>0.0</td>\n",
       "      <td>9.600000e+01</td>\n",
       "      <td>0.000000</td>\n",
       "      <td>9.000000</td>\n",
       "      <td>1.000000</td>\n",
       "    </tr>\n",
       "    <tr>\n",
       "      <th>50%</th>\n",
       "      <td>12.000000</td>\n",
       "      <td>4.000000</td>\n",
       "      <td>3.000000e+00</td>\n",
       "      <td>0.0</td>\n",
       "      <td>5.180000e+02</td>\n",
       "      <td>1.000000</td>\n",
       "      <td>27.000000</td>\n",
       "      <td>1.000000</td>\n",
       "    </tr>\n",
       "    <tr>\n",
       "      <th>75%</th>\n",
       "      <td>25.000000</td>\n",
       "      <td>9.000000</td>\n",
       "      <td>5.000000e+00</td>\n",
       "      <td>0.0</td>\n",
       "      <td>2.205000e+03</td>\n",
       "      <td>4.000000</td>\n",
       "      <td>68.000000</td>\n",
       "      <td>1.453343</td>\n",
       "    </tr>\n",
       "    <tr>\n",
       "      <th>max</th>\n",
       "      <td>99.000000</td>\n",
       "      <td>41.000000</td>\n",
       "      <td>1.800000e+01</td>\n",
       "      <td>0.0</td>\n",
       "      <td>1.857200e+04</td>\n",
       "      <td>24.000000</td>\n",
       "      <td>329.000000</td>\n",
       "      <td>5.000000</td>\n",
       "    </tr>\n",
       "  </tbody>\n",
       "</table>\n",
       "</div>"
      ],
      "text/plain": [
       "               stars          forks      watchers  isArchived   diskUsageKb   \n",
       "count  210001.000000  210001.000000  2.100010e+05    210001.0  2.100010e+05  \\\n",
       "mean       19.727362       6.890753  3.946060e+00         0.0  1.976317e+03   \n",
       "std        18.897976       8.168901  3.463820e+00         0.0  3.330613e+03   \n",
       "min         3.000000       0.000000  4.440892e-16         0.0  2.273737e-13   \n",
       "25%         7.000000       1.000000  2.000000e+00         0.0  9.600000e+01   \n",
       "50%        12.000000       4.000000  3.000000e+00         0.0  5.180000e+02   \n",
       "75%        25.000000       9.000000  5.000000e+00         0.0  2.205000e+03   \n",
       "max        99.000000      41.000000  1.800000e+01         0.0  1.857200e+04   \n",
       "\n",
       "        pullRequests  defaultBranchCommitCount  assignableUserCount  \n",
       "count  210001.000000             210001.000000        210001.000000  \n",
       "mean        2.853631                 51.451576             1.381131  \n",
       "std         4.711792                 63.073766             0.793405  \n",
       "min        -0.650609                 -1.000000             0.000000  \n",
       "25%         0.000000                  9.000000             1.000000  \n",
       "50%         1.000000                 27.000000             1.000000  \n",
       "75%         4.000000                 68.000000             1.453343  \n",
       "max        24.000000                329.000000             5.000000  "
      ]
     },
     "execution_count": 49,
     "metadata": {},
     "output_type": "execute_result"
    }
   ],
   "source": [
    "convey_insights([\"After imputing the outliers with the median, there are no extreme values and the means/std make more sense\",\n",
    "                 \"The medians are still unaffected but now forks vary more than pull requests\"])\n",
    "x_data_o.describe()"
   ]
  },
  {
   "attachments": {},
   "cell_type": "markdown",
   "metadata": {},
   "source": [
    "### Violin Plots"
   ]
  },
  {
   "cell_type": "code",
   "execution_count": null,
   "metadata": {},
   "outputs": [],
   "source": [
    "convey_insights([\"The distributions seem to all be left-skewed; closely forming a chi-square distribuion\",\n",
    "                 \"The distributions for license and programming language are multimodal\",\n",
    "                 \"...\"\n",
    "                 ])\n",
    "plot_violin_plots(x_data_o, 10000)"
   ]
  },
  {
   "attachments": {},
   "cell_type": "markdown",
   "metadata": {},
   "source": [
    "### Pair-wise Numerical Data Patterns"
   ]
  },
  {
   "cell_type": "code",
   "execution_count": null,
   "metadata": {},
   "outputs": [],
   "source": [
    "convey_insights([\"Most relationships seem complex (e.g., not linear)\",\n",
    "                 \"Stars/DiskUsage and Stars/Commits seem to be anti-correlated. Likewise for Forking/Commits\",\n",
    "                 \"Newer repos seem to have more variance over most features\"\n",
    "                 ])\n",
    "visualize_continuous_data(x_data_o, sample_size=10000)"
   ]
  },
  {
   "attachments": {},
   "cell_type": "markdown",
   "metadata": {},
   "source": [
    "### Pair-wise Numerical Data Corelations"
   ]
  },
  {
   "cell_type": "code",
   "execution_count": null,
   "metadata": {},
   "outputs": [],
   "source": [
    "convey_insights([\"Mostly no correlation between the variables\",\n",
    "                 \"Relevant positive correlation between stars and forks/watchers and forks\",\n",
    "                 \"Slight negative correlation between watchers and createdAt\"\n",
    "                 ])\n",
    "correlation_matrix(x_data_o, sample_size=10000)"
   ]
  },
  {
   "attachments": {},
   "cell_type": "markdown",
   "metadata": {},
   "source": [
    "## Adventure: Reading & <font color=\"Cyan\">Examining Data</font>"
   ]
  },
  {
   "attachments": {},
   "cell_type": "markdown",
   "metadata": {},
   "source": [
    "### <font color=\"Pink\">Needed</font> Columns"
   ]
  },
  {
   "cell_type": "code",
   "execution_count": null,
   "metadata": {},
   "outputs": [],
   "source": [
    "x_data_d, _ = read_data()\n",
    "x_data_d.head(5)"
   ]
  },
  {
   "attachments": {},
   "cell_type": "markdown",
   "metadata": {},
   "source": [
    "<span style=\"font-family:Avenir;\">\n",
    "\n",
    "<table style=\"width:100%; border-collapse:collapse; table-layout:fixed;\">\n",
    "  <thead>\n",
    "    <tr>\n",
    "      <th style=\"padding:10px; border:0.5px solid grey; text-align: center; width:33.33%;\">\n",
    "      <font color=\"DeepSkyBlue\">\n",
    "      Set Expectations\n",
    "      </font>\n",
    "      </th>\n",
    "      <th style=\"padding:10px; border:0.5px solid grey; text-align: center; width:33.33%;\">\n",
    "      <font color=\"DeepSkyBlue\">\n",
    "      Collect Data\n",
    "      </font>\n",
    "      </th>\n",
    "      <th style=\"padding:10px; border:0.5px solid grey; text-align: center; width:33.33%;\">\n",
    "      <font color=\"DeepSkyBlue\">\n",
    "      Match Expectations & Data\n",
    "      </font>\n",
    "      </th>\n",
    "    </tr>\n",
    "  </thead>\n",
    "  <tbody>\n",
    "    <tr>\n",
    "      <td style=\"padding:10px; border:0.5px solid grey; text-align: center; width:33.33%;\">\n",
    "      All columns will be needed in the analytics\n",
    "      </td>\n",
    "      <td style=\"padding:10px; border:0.5px solid grey; text-align: center; width:33.33%;\">\n",
    "      Data is as shown, columns like nameWithOwner or name, etc. are not needed.\n",
    "      </td>\n",
    "      <td style=\"padding:10px; border:0.5px solid grey; text-align: center; width:33.33%;\">\n",
    "      To let them match, we will drop the useless columns.\n",
    "      </td>\n",
    "    </tr>\n",
    "  </tbody>\n",
    "</table>\n",
    "\n",
    "</span>\n",
    "\n"
   ]
  },
  {
   "cell_type": "code",
   "execution_count": null,
   "metadata": {},
   "outputs": [],
   "source": [
    "x_data_d, _ = read_data(handle_useless=\"obvious\")\n",
    "x_data_d.head(5)"
   ]
  },
  {
   "attachments": {},
   "cell_type": "markdown",
   "metadata": {},
   "source": [
    "### <font color=\"Pink\">Languages</font> Column"
   ]
  },
  {
   "attachments": {},
   "cell_type": "markdown",
   "metadata": {},
   "source": [
    "<span style=\"font-family:Avenir;\">\n",
    "\n",
    "<table style=\"width:100%; border-collapse:collapse; table-layout:fixed;\">\n",
    "  <thead>\n",
    "    <tr>\n",
    "      <th style=\"padding:10px; border:0.5px solid grey; text-align: center; width:33.33%;\">\n",
    "      <font color=\"DeepSkyBlue\">\n",
    "      Set Expectations\n",
    "      </font>\n",
    "      </th>\n",
    "      <th style=\"padding:10px; border:0.5px solid grey; text-align: center; width:33.33%;\">\n",
    "      <font color=\"DeepSkyBlue\">\n",
    "      Collect Data\n",
    "      </font>\n",
    "      </th>\n",
    "      <th style=\"padding:10px; border:0.5px solid grey; text-align: center; width:33.33%;\">\n",
    "      <font color=\"DeepSkyBlue\">\n",
    "      Match Expectations & Data\n",
    "      </font>\n",
    "      </th>\n",
    "    </tr>\n",
    "  </thead>\n",
    "  <tbody>\n",
    "    <tr>\n",
    "      <td style=\"padding:10px; border:0.5px solid grey; text-align: center; width:33.33%;\">\n",
    "      All columns are suitable for the algorithms that take tabular data\n",
    "      </td>\n",
    "      <td style=\"padding:10px; border:0.5px solid grey; text-align: center; width:33.33%;\">\n",
    "      As shown, the languages column is a list of dictionaries.\n",
    "      </td>\n",
    "      <td style=\"padding:10px; border:0.5px solid grey; text-align: center; width:33.33%;\">\n",
    "      To let them match, we will break it down into two columns\n",
    "      </td>\n",
    "    </tr>\n",
    "  </tbody>\n",
    "</table>\n",
    "\n",
    "</span>\n",
    "\n"
   ]
  },
  {
   "cell_type": "code",
   "execution_count": null,
   "metadata": {},
   "outputs": [],
   "source": [
    "x_data_d, _ = read_data(handle_useless=\"obvious\", handle_langs=True)\n",
    "x_data_d.head(5)"
   ]
  },
  {
   "attachments": {},
   "cell_type": "markdown",
   "metadata": {},
   "source": [
    "### <font color=\"Pink\">Time</font> Column"
   ]
  },
  {
   "attachments": {},
   "cell_type": "markdown",
   "metadata": {},
   "source": [
    "<span style=\"font-family:Avenir;\">\n",
    "\n",
    "<table style=\"width:100%; border-collapse:collapse; table-layout:fixed;\">\n",
    "  <thead>\n",
    "    <tr>\n",
    "      <th style=\"padding:10px; border:0.5px solid grey; text-align: center; width:33.33%;\">\n",
    "      <font color=\"DeepSkyBlue\">\n",
    "      Set Expectations\n",
    "      </font>\n",
    "      </th>\n",
    "      <th style=\"padding:10px; border:0.5px solid grey; text-align: center; width:33.33%;\">\n",
    "      <font color=\"DeepSkyBlue\">\n",
    "      Collect Data\n",
    "      </font>\n",
    "      </th>\n",
    "      <th style=\"padding:10px; border:0.5px solid grey; text-align: center; width:33.33%;\">\n",
    "      <font color=\"DeepSkyBlue\">\n",
    "      Match Expectations & Data\n",
    "      </font>\n",
    "      </th>\n",
    "    </tr>\n",
    "  </thead>\n",
    "  <tbody>\n",
    "    <tr>\n",
    "      <td style=\"padding:10px; border:0.5px solid grey; text-align: center; width:33.33%;\">\n",
    "      The createdAt column is suitable for time series forecasting\n",
    "      </td>\n",
    "      <td style=\"padding:10px; border:0.5px solid grey; text-align: center; width:33.33%;\">\n",
    "      As shown its given in string datetime format meanwhile models expect numerical features\n",
    "      </td>\n",
    "      <td style=\"padding:10px; border:0.5px solid grey; text-align: center; width:33.33%;\">\n",
    "      To let them match, we extract date time features like hour, day, month, year, etc.\n",
    "      </td>\n",
    "    </tr>\n",
    "  </tbody>\n",
    "</table>\n",
    "\n",
    "</span>\n",
    "\n"
   ]
  },
  {
   "cell_type": "code",
   "execution_count": null,
   "metadata": {},
   "outputs": [],
   "source": [
    "date_cols = get_date_features(x_data_d, \"createdAt\")\n",
    "\n",
    "date_cols.head(5)"
   ]
  },
  {
   "attachments": {},
   "cell_type": "markdown",
   "metadata": {},
   "source": [
    "### Dataset Size & <font color=\"Pink\">Column Types</font>"
   ]
  },
  {
   "attachments": {},
   "cell_type": "markdown",
   "metadata": {},
   "source": [
    "<span style=\"font-family:Avenir;\">\n",
    "\n",
    "<table style=\"width:100%; border-collapse:collapse; table-layout:fixed;\">\n",
    "  <thead>\n",
    "    <tr>\n",
    "      <th style=\"padding:10px; border:0.5px solid grey; text-align: center; width:33.33%;\">\n",
    "      <font color=\"DeepSkyBlue\">\n",
    "      Set Expectations\n",
    "      </font>\n",
    "      </th>\n",
    "      <th style=\"padding:10px; border:0.5px solid grey; text-align: center; width:33.33%;\">\n",
    "      <font color=\"DeepSkyBlue\">\n",
    "      Collect Data\n",
    "      </font>\n",
    "      </th>\n",
    "      <th style=\"padding:10px; border:0.5px solid grey; text-align: center; width:33.33%;\">\n",
    "      <font color=\"DeepSkyBlue\">\n",
    "      Match Expectations & Data\n",
    "      </font>\n",
    "      </th>\n",
    "    </tr>\n",
    "  </thead>\n",
    "  <tbody>\n",
    "    <tr>\n",
    "      <td style=\"padding:10px; border:0.5px solid grey; text-align: center; width:33.33%;\">\n",
    "      The training data is loaded by default and its about 70% of the 300K dataset\n",
    "      </td>\n",
    "      <td style=\"padding:10px; border:0.5px solid grey; text-align: center; width:33.33%;\">\n",
    "      As shown, the size of the training set is 210K\n",
    "      </td>\n",
    "      <td style=\"padding:10px; border:0.5px solid grey; text-align: center; width:33.33%;\">\n",
    "      Indeed, they match\n",
    "      </td>\n",
    "    </tr>\n",
    "  </tbody>\n",
    "</table>\n",
    "\n",
    "</span>\n",
    "\n"
   ]
  },
  {
   "cell_type": "code",
   "execution_count": null,
   "metadata": {},
   "outputs": [],
   "source": [
    "basic_info(x_data_d)"
   ]
  },
  {
   "attachments": {},
   "cell_type": "markdown",
   "metadata": {},
   "source": [
    "<span style=\"font-family:Avenir;\">\n",
    "\n",
    "<table style=\"width:100%; border-collapse:collapse; table-layout:fixed;\">\n",
    "  <thead>\n",
    "    <tr>\n",
    "      <th style=\"padding:10px; border:0.5px solid grey; text-align: center; width:33.33%;\">\n",
    "      <font color=\"DeepSkyBlue\">\n",
    "      Set Expectations\n",
    "      </font>\n",
    "      </th>\n",
    "      <th style=\"padding:10px; border:0.5px solid grey; text-align: center; width:33.33%;\">\n",
    "      <font color=\"DeepSkyBlue\">\n",
    "      Collect Data\n",
    "      </font>\n",
    "      </th>\n",
    "      <th style=\"padding:10px; border:0.5px solid grey; text-align: center; width:33.33%;\">\n",
    "      <font color=\"DeepSkyBlue\">\n",
    "      Match Expectations & Data\n",
    "      </font>\n",
    "      </th>\n",
    "    </tr>\n",
    "  </thead>\n",
    "  <tbody>\n",
    "    <tr>\n",
    "      <td style=\"padding:10px; border:0.5px solid grey; text-align: center; width:33.33%;\">\n",
    "      All columns will be meaningful for the analytics\n",
    "      </td>\n",
    "      <td style=\"padding:10px; border:0.5px solid grey; text-align: center; width:33.33%;\">\n",
    "      As shown, the parents column is 100% missing and the forking columns are constant\n",
    "      </td>\n",
    "      <td style=\"padding:10px; border:0.5px solid grey; text-align: center; width:33.33%;\">\n",
    "      To match, drop these columns and note that forking is always allowed and that none of the repos is forked.\n",
    "      </td>\n",
    "    </tr>\n",
    "  </tbody>\n",
    "</table>\n",
    "\n",
    "</span>\n",
    "\n"
   ]
  },
  {
   "cell_type": "code",
   "execution_count": null,
   "metadata": {},
   "outputs": [],
   "source": [
    "features_info(x_data_d)"
   ]
  },
  {
   "cell_type": "code",
   "execution_count": null,
   "metadata": {},
   "outputs": [],
   "source": [
    "x_data_d, _ = read_data(handle_useless=\"all\", handle_langs=True)\n",
    "basic_info(x_data_d)\n",
    "features_info(x_data_d)"
   ]
  },
  {
   "attachments": {},
   "cell_type": "markdown",
   "metadata": {},
   "source": [
    "###  <font color=\"Pink\">Missing Values</font> & Outliers"
   ]
  },
  {
   "attachments": {},
   "cell_type": "markdown",
   "metadata": {},
   "source": [
    "<h3 style=\"text-align:left;\">Missing Values</h3>"
   ]
  },
  {
   "attachments": {},
   "cell_type": "markdown",
   "metadata": {},
   "source": [
    "<span style=\"font-family:Avenir;\">\n",
    "\n",
    "<table style=\"width:100%; border-collapse:collapse; table-layout:fixed;\">\n",
    "  <thead>\n",
    "    <tr>\n",
    "      <th style=\"padding:10px; border:0.5px solid grey; text-align: center; width:33.33%;\">\n",
    "      <font color=\"DeepSkyBlue\">\n",
    "      Set Expectations\n",
    "      </font>\n",
    "      </th>\n",
    "      <th style=\"padding:10px; border:0.5px solid grey; text-align: center; width:33.33%;\">\n",
    "      <font color=\"DeepSkyBlue\">\n",
    "      Collect Data\n",
    "      </font>\n",
    "      </th>\n",
    "      <th style=\"padding:10px; border:0.5px solid grey; text-align: center; width:33.33%;\">\n",
    "      <font color=\"DeepSkyBlue\">\n",
    "      Match Expectations & Data\n",
    "      </font>\n",
    "      </th>\n",
    "    </tr>\n",
    "  </thead>\n",
    "  <tbody>\n",
    "    <tr>\n",
    "      <td style=\"padding:10px; border:0.5px solid grey; text-align: center; width:33.33%;\">\n",
    "      Why there is missing values in <b>primaryLanguage</b>? (data missingness mechanism)\n",
    "      </td>\n",
    "      <td style=\"padding:10px; border:0.5px solid grey; text-align: center; width:33.33%;\">\n",
    "      When the <b>primaryLanguage</b> column has missing value, the <b>languagesUsed</b> column has missing value too. after a domain expert investigation, it was found that the missing values are due to the fact that the repo is not written in any programming language it is about documents (markdown files, xml files, etc.) which implies the missingness mechanism is <b>Missing Not At Random (MNAR)</b>\n",
    "      </td>\n",
    "      <td style=\"padding:10px; border:0.5px solid grey; text-align: center; width:33.33%;\">\n",
    "      Replace the missing values in those columns with \"Document\"\n",
    "      </td>\n",
    "    </tr>\n",
    "  </tbody>\n",
    "</table>\n",
    "\n",
    "</span>\n"
   ]
  },
  {
   "cell_type": "code",
   "execution_count": null,
   "metadata": {},
   "outputs": [],
   "source": [
    "x_data_d[x_data_d.primaryLanguage=='-1'].languagesUsed.unique()"
   ]
  },
  {
   "attachments": {},
   "cell_type": "markdown",
   "metadata": {},
   "source": [
    "<span style=\"font-family:Avenir;\">\n",
    "\n",
    "<table style=\"width:100%; border-collapse:collapse; table-layout:fixed;\">\n",
    "  <thead>\n",
    "    <tr>\n",
    "      <th style=\"padding:10px; border:0.5px solid grey; text-align: center; width:33.33%;\">\n",
    "      <font color=\"DeepSkyBlue\">\n",
    "      Set Expectations\n",
    "      </font>\n",
    "      </th>\n",
    "      <th style=\"padding:10px; border:0.5px solid grey; text-align: center; width:33.33%;\">\n",
    "      <font color=\"DeepSkyBlue\">\n",
    "      Collect Data\n",
    "      </font>\n",
    "      </th>\n",
    "      <th style=\"padding:10px; border:0.5px solid grey; text-align: center; width:33.33%;\">\n",
    "      <font color=\"DeepSkyBlue\">\n",
    "      Match Expectations & Data\n",
    "      </font>\n",
    "      </th>\n",
    "    </tr>\n",
    "  </thead>\n",
    "  <tbody>\n",
    "    <tr>\n",
    "      <td style=\"padding:10px; border:0.5px solid grey; text-align: center; width:33.33%;\">\n",
    "      The <b>License</b> column has missing values\n",
    "      </td>\n",
    "      <td style=\"padding:10px; border:0.5px solid grey; text-align: center; width:33.33%;\">\n",
    "      the type of license that should be used for the missing values is the default copy write licnece\n",
    "      </td>\n",
    "      <td style=\"padding:10px; border:0.5px solid grey; text-align: center; width:33.33%;\">\n",
    "      could replace the missing values with the <b>dafault copy write license</b>\n",
    "      </td>\n",
    "    </tr>\n",
    "  </tbody>\n",
    "</table>\n",
    "\n",
    "</span>\n",
    "\n"
   ]
  },
  {
   "cell_type": "code",
   "execution_count": null,
   "metadata": {},
   "outputs": [],
   "source": [
    "x_data_d[x_data_d.license=='-1'].shape[0]/x_data_d.shape[0]"
   ]
  },
  {
   "attachments": {},
   "cell_type": "markdown",
   "metadata": {},
   "source": [
    "<span style=\"font-family:Avenir;\">\n",
    "\n",
    "<table style=\"width:100%; border-collapse:collapse; table-layout:fixed;\">\n",
    "  <thead>\n",
    "    <tr>\n",
    "      <th style=\"padding:10px; border:0.5px solid grey; text-align: center; width:33.33%;\">\n",
    "      <font color=\"DeepSkyBlue\">\n",
    "      Set Expectations\n",
    "      </font>\n",
    "      </th>\n",
    "      <th style=\"padding:10px; border:0.5px solid grey; text-align: center; width:33.33%;\">\n",
    "      <font color=\"DeepSkyBlue\">\n",
    "      Collect Data\n",
    "      </font>\n",
    "      </th>\n",
    "      <th style=\"padding:10px; border:0.5px solid grey; text-align: center; width:33.33%;\">\n",
    "      <font color=\"DeepSkyBlue\">\n",
    "      Match Expectations & Data\n",
    "      </font>\n",
    "      </th>\n",
    "    </tr>\n",
    "  </thead>\n",
    "  <tbody>\n",
    "    <tr>\n",
    "      <td style=\"padding:10px; border:0.5px solid grey; text-align: center; width:33.33%;\">\n",
    "      The <b>codeOfConduct</b> column has a lot missing values\n",
    "      </td>\n",
    "      <td style=\"padding:10px; border:0.5px solid grey; text-align: center; width:33.33%;\">\n",
    "      The absent have a meaning\n",
    "      </td>\n",
    "      <td style=\"padding:10px; border:0.5px solid grey; text-align: center; width:33.33%;\">\n",
    "      Leave the column as it is\n",
    "      </td>\n",
    "    </tr>\n",
    "  </tbody>\n",
    "</table>\n",
    "\n",
    "</span>"
   ]
  },
  {
   "cell_type": "code",
   "execution_count": null,
   "metadata": {},
   "outputs": [],
   "source": [
    "x_data_d[x_data_d.codeOfConduct=='-1'].shape[0]/x_data_d.shape[0]"
   ]
  },
  {
   "attachments": {},
   "cell_type": "markdown",
   "metadata": {},
   "source": [
    "### Outliers"
   ]
  }
 ],
 "metadata": {
  "kernelspec": {
   "display_name": "base",
   "language": "python",
   "name": "python3"
  },
  "language_info": {
   "codemirror_mode": {
    "name": "ipython",
    "version": 3
   },
   "file_extension": ".py",
   "mimetype": "text/x-python",
   "name": "python",
   "nbconvert_exporter": "python",
   "pygments_lexer": "ipython3",
   "version": "3.10.4"
  },
  "orig_nbformat": 4
 },
 "nbformat": 4,
 "nbformat_minor": 2
}
